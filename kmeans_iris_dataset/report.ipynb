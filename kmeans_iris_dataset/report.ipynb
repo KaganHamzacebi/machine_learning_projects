{
 "cells": [
  {
   "cell_type": "markdown",
   "source": [
    "Name: Kagan Hamzacebi\n",
    "\n",
    "ID: 151101064\n",
    "\n",
    "Course: BIL470"
   ],
   "metadata": {}
  },
  {
   "cell_type": "code",
   "execution_count": 98,
   "source": [
    "%load_ext autoreload\r\n",
    "%autoreload 2"
   ],
   "outputs": [
    {
     "output_type": "stream",
     "name": "stdout",
     "text": [
      "The autoreload extension is already loaded. To reload it, use:\n",
      "  %reload_ext autoreload\n"
     ]
    }
   ],
   "metadata": {}
  },
  {
   "cell_type": "code",
   "execution_count": 99,
   "source": [
    "import pandas as pd\r\n",
    "import matplotlib.pyplot as plt\r\n",
    "import seaborn as sns\r\n",
    "from kneed import KneeLocator\r\n",
    "from math import sqrt\r\n",
    "import sys\r\n",
    "import random\r\n",
    "import plotly_express as px\r\n",
    "\r\n",
    "from kmeans import KMeansClusterClassifier"
   ],
   "outputs": [],
   "metadata": {}
  },
  {
   "cell_type": "markdown",
   "source": [
    "# Import Data\r\n",
    "visData = pd.read_csv('iris.csv')"
   ],
   "metadata": {}
  },
  {
   "cell_type": "code",
   "execution_count": 100,
   "source": [
    "#import data\r\n",
    "visData = pd.read_csv('iris.csv')"
   ],
   "outputs": [],
   "metadata": {}
  },
  {
   "cell_type": "markdown",
   "source": [
    "## Create X, y Lists"
   ],
   "metadata": {}
  },
  {
   "cell_type": "code",
   "execution_count": 101,
   "source": [
    "data = pd.DataFrame(visData)\r\n",
    "\r\n",
    "#build train sets\r\n",
    "X = list()\r\n",
    "y = list()\r\n",
    "\r\n",
    "#fetch features and label\r\n",
    "for line in data.iterrows():\r\n",
    "    val = list(line[1])\r\n",
    "    X.append(list(val[:4]))\r\n",
    "    y.append(val[-1])\r\n",
    "\r\n",
    "#assign label values as Setosa=0 Versicolor=1 Virginica=2\r\n",
    "for i in range(len(y)):\r\n",
    "    if y[i] == \"setosa\":\r\n",
    "        y[i] = 0\r\n",
    "    elif y[i] == \"versicolor\":\r\n",
    "        y[i] = 1\r\n",
    "    else:\r\n",
    "        y[i] = 2\r\n",
    "\r\n",
    "#shuffle X,y with same order\r\n",
    "c = list(zip(X, y))\r\n",
    "random.shuffle(c)\r\n",
    "X, y = zip(*c)\r\n",
    "\r\n",
    "#Train data 0-120 Test data 120-150 -- 80% used for Train\r\n",
    "X_train, X_test, y_train, y_test = X[:120], X[120:], y[:120], y[120:]"
   ],
   "outputs": [],
   "metadata": {
    "tags": []
   }
  },
  {
   "cell_type": "markdown",
   "source": [
    "# Train the classifier\r\n",
    "\r\n",
    " * train the classifier\r\n",
    " * calculate metrics\r\n"
   ],
   "metadata": {}
  },
  {
   "cell_type": "code",
   "execution_count": 102,
   "source": [
    "#Train\r\n",
    "def euclidean_distance(a, b):\r\n",
    "    return sqrt(((b[0] - a[0]) ** 2) + ((b[1] - a[1]) ** 2) + ((b[2] - a[2]) ** 2) + ((b[3] - a[3]) ** 2))\r\n",
    "\r\n",
    "distances = list()\r\n",
    "#Elbow Method\r\n",
    "N = range(1, 10)\r\n",
    "M = 3\r\n",
    "for i in N:\r\n",
    "    sum_of_squared_distances = 0\r\n",
    "    #Inner For Loop for multiple Distance Calculation\r\n",
    "    for _ in range(M):\r\n",
    "        ep = KMeansClusterClassifier(n_clusters=i)\r\n",
    "        ep.fit(X_train, y_train)\r\n",
    "        centroids = ep.centroids\r\n",
    "\r\n",
    "        for d in X_train:\r\n",
    "            mindist = sys.maxsize\r\n",
    "            for point in centroids:\r\n",
    "                dist = euclidean_distance(d, point)\r\n",
    "                if mindist > dist:\r\n",
    "                    mindist = dist\r\n",
    "            sum_of_squared_distances += mindist\r\n",
    "\r\n",
    "    distances.append(sum_of_squared_distances / M)\r\n",
    "\r\n",
    "#Find Elbow Point\r\n",
    "kn = KneeLocator(N, distances, curve='convex', direction='decreasing')\r\n",
    "elbow_point = kn.knee\r\n",
    "\r\n",
    "plt.figure(figsize=(16,8))\r\n",
    "plt.plot(N, distances, 'bx-')\r\n",
    "plt.xlabel('Cluster Count')\r\n",
    "plt.ylabel('Sum of Squared Distances')\r\n",
    "plt.title('The Elbow Method')\r\n",
    "plt.vlines(elbow_point, plt.ylim()[0], plt.ylim()[1], linestyles='dashed', label='elbow point')\r\n",
    "plt.show()"
   ],
   "outputs": [
    {
     "output_type": "display_data",
     "data": {
      "text/plain": [
       "<Figure size 1152x576 with 1 Axes>"
      ],
      "image/svg+xml": "<?xml version=\"1.0\" encoding=\"utf-8\" standalone=\"no\"?>\r\n<!DOCTYPE svg PUBLIC \"-//W3C//DTD SVG 1.1//EN\"\r\n  \"http://www.w3.org/Graphics/SVG/1.1/DTD/svg11.dtd\">\r\n<svg height=\"513.215391pt\" version=\"1.1\" viewBox=\"0 0 964.907578 513.215391\" width=\"964.907578pt\" xmlns=\"http://www.w3.org/2000/svg\" xmlns:xlink=\"http://www.w3.org/1999/xlink\">\r\n <metadata>\r\n  <rdf:RDF xmlns:cc=\"http://creativecommons.org/ns#\" xmlns:dc=\"http://purl.org/dc/elements/1.1/\" xmlns:rdf=\"http://www.w3.org/1999/02/22-rdf-syntax-ns#\">\r\n   <cc:Work>\r\n    <dc:type rdf:resource=\"http://purl.org/dc/dcmitype/StillImage\"/>\r\n    <dc:date>2021-08-16T23:57:37.910916</dc:date>\r\n    <dc:format>image/svg+xml</dc:format>\r\n    <dc:creator>\r\n     <cc:Agent>\r\n      <dc:title>Matplotlib v3.4.2, https://matplotlib.org/</dc:title>\r\n     </cc:Agent>\r\n    </dc:creator>\r\n   </cc:Work>\r\n  </rdf:RDF>\r\n </metadata>\r\n <defs>\r\n  <style type=\"text/css\">*{stroke-linecap:butt;stroke-linejoin:round;}</style>\r\n </defs>\r\n <g id=\"figure_1\">\r\n  <g id=\"patch_1\">\r\n   <path d=\"M 0 513.215391 \r\nL 964.907578 513.215391 \r\nL 964.907578 0 \r\nL 0 0 \r\nz\r\n\" style=\"fill:#ffffff;\"/>\r\n  </g>\r\n  <g id=\"axes_1\">\r\n   <g id=\"patch_2\">\r\n    <path d=\"M 64.907578 460.964062 \r\nL 957.707578 460.964062 \r\nL 957.707578 26.084062 \r\nL 64.907578 26.084062 \r\nz\r\n\" style=\"fill:#eaeaf2;\"/>\r\n   </g>\r\n   <g id=\"matplotlib.axis_1\">\r\n    <g id=\"xtick_1\">\r\n     <g id=\"line2d_1\">\r\n      <path clip-path=\"url(#pb67e221e42)\" d=\"M 105.489396 460.964062 \r\nL 105.489396 26.084062 \r\n\" style=\"fill:none;stroke:#ffffff;stroke-linecap:round;\"/>\r\n     </g>\r\n     <g id=\"text_1\">\r\n      <!-- 1 -->\r\n      <g style=\"fill:#262626;\" transform=\"translate(100.901623 482.274453)scale(0.165 -0.165)\">\r\n       <defs>\r\n        <path d=\"M 2384 0 \r\nL 1822 0 \r\nL 1822 3584 \r\nQ 1619 3391 1289 3197 \r\nQ 959 3003 697 2906 \r\nL 697 3450 \r\nQ 1169 3672 1522 3987 \r\nQ 1875 4303 2022 4600 \r\nL 2384 4600 \r\nL 2384 0 \r\nz\r\n\" id=\"ArialMT-31\" transform=\"scale(0.015625)\"/>\r\n       </defs>\r\n       <use xlink:href=\"#ArialMT-31\"/>\r\n      </g>\r\n     </g>\r\n    </g>\r\n    <g id=\"xtick_2\">\r\n     <g id=\"line2d_2\">\r\n      <path clip-path=\"url(#pb67e221e42)\" d=\"M 206.943942 460.964062 \r\nL 206.943942 26.084062 \r\n\" style=\"fill:none;stroke:#ffffff;stroke-linecap:round;\"/>\r\n     </g>\r\n     <g id=\"text_2\">\r\n      <!-- 2 -->\r\n      <g style=\"fill:#262626;\" transform=\"translate(202.356168 482.274453)scale(0.165 -0.165)\">\r\n       <defs>\r\n        <path d=\"M 3222 541 \r\nL 3222 0 \r\nL 194 0 \r\nQ 188 203 259 391 \r\nQ 375 700 629 1000 \r\nQ 884 1300 1366 1694 \r\nQ 2113 2306 2375 2664 \r\nQ 2638 3022 2638 3341 \r\nQ 2638 3675 2398 3904 \r\nQ 2159 4134 1775 4134 \r\nQ 1369 4134 1125 3890 \r\nQ 881 3647 878 3216 \r\nL 300 3275 \r\nQ 359 3922 746 4261 \r\nQ 1134 4600 1788 4600 \r\nQ 2447 4600 2831 4234 \r\nQ 3216 3869 3216 3328 \r\nQ 3216 3053 3103 2787 \r\nQ 2991 2522 2730 2228 \r\nQ 2469 1934 1863 1422 \r\nQ 1356 997 1212 845 \r\nQ 1069 694 975 541 \r\nL 3222 541 \r\nz\r\n\" id=\"ArialMT-32\" transform=\"scale(0.015625)\"/>\r\n       </defs>\r\n       <use xlink:href=\"#ArialMT-32\"/>\r\n      </g>\r\n     </g>\r\n    </g>\r\n    <g id=\"xtick_3\">\r\n     <g id=\"line2d_3\">\r\n      <path clip-path=\"url(#pb67e221e42)\" d=\"M 308.398487 460.964062 \r\nL 308.398487 26.084062 \r\n\" style=\"fill:none;stroke:#ffffff;stroke-linecap:round;\"/>\r\n     </g>\r\n     <g id=\"text_3\">\r\n      <!-- 3 -->\r\n      <g style=\"fill:#262626;\" transform=\"translate(303.810714 482.274453)scale(0.165 -0.165)\">\r\n       <defs>\r\n        <path d=\"M 269 1209 \r\nL 831 1284 \r\nQ 928 806 1161 595 \r\nQ 1394 384 1728 384 \r\nQ 2125 384 2398 659 \r\nQ 2672 934 2672 1341 \r\nQ 2672 1728 2419 1979 \r\nQ 2166 2231 1775 2231 \r\nQ 1616 2231 1378 2169 \r\nL 1441 2663 \r\nQ 1497 2656 1531 2656 \r\nQ 1891 2656 2178 2843 \r\nQ 2466 3031 2466 3422 \r\nQ 2466 3731 2256 3934 \r\nQ 2047 4138 1716 4138 \r\nQ 1388 4138 1169 3931 \r\nQ 950 3725 888 3313 \r\nL 325 3413 \r\nQ 428 3978 793 4289 \r\nQ 1159 4600 1703 4600 \r\nQ 2078 4600 2393 4439 \r\nQ 2709 4278 2876 4000 \r\nQ 3044 3722 3044 3409 \r\nQ 3044 3113 2884 2869 \r\nQ 2725 2625 2413 2481 \r\nQ 2819 2388 3044 2092 \r\nQ 3269 1797 3269 1353 \r\nQ 3269 753 2831 336 \r\nQ 2394 -81 1725 -81 \r\nQ 1122 -81 723 278 \r\nQ 325 638 269 1209 \r\nz\r\n\" id=\"ArialMT-33\" transform=\"scale(0.015625)\"/>\r\n       </defs>\r\n       <use xlink:href=\"#ArialMT-33\"/>\r\n      </g>\r\n     </g>\r\n    </g>\r\n    <g id=\"xtick_4\">\r\n     <g id=\"line2d_4\">\r\n      <path clip-path=\"url(#pb67e221e42)\" d=\"M 409.853033 460.964062 \r\nL 409.853033 26.084062 \r\n\" style=\"fill:none;stroke:#ffffff;stroke-linecap:round;\"/>\r\n     </g>\r\n     <g id=\"text_4\">\r\n      <!-- 4 -->\r\n      <g style=\"fill:#262626;\" transform=\"translate(405.265259 482.274453)scale(0.165 -0.165)\">\r\n       <defs>\r\n        <path d=\"M 2069 0 \r\nL 2069 1097 \r\nL 81 1097 \r\nL 81 1613 \r\nL 2172 4581 \r\nL 2631 4581 \r\nL 2631 1613 \r\nL 3250 1613 \r\nL 3250 1097 \r\nL 2631 1097 \r\nL 2631 0 \r\nL 2069 0 \r\nz\r\nM 2069 1613 \r\nL 2069 3678 \r\nL 634 1613 \r\nL 2069 1613 \r\nz\r\n\" id=\"ArialMT-34\" transform=\"scale(0.015625)\"/>\r\n       </defs>\r\n       <use xlink:href=\"#ArialMT-34\"/>\r\n      </g>\r\n     </g>\r\n    </g>\r\n    <g id=\"xtick_5\">\r\n     <g id=\"line2d_5\">\r\n      <path clip-path=\"url(#pb67e221e42)\" d=\"M 511.307578 460.964062 \r\nL 511.307578 26.084062 \r\n\" style=\"fill:none;stroke:#ffffff;stroke-linecap:round;\"/>\r\n     </g>\r\n     <g id=\"text_5\">\r\n      <!-- 5 -->\r\n      <g style=\"fill:#262626;\" transform=\"translate(506.719805 482.274453)scale(0.165 -0.165)\">\r\n       <defs>\r\n        <path d=\"M 266 1200 \r\nL 856 1250 \r\nQ 922 819 1161 601 \r\nQ 1400 384 1738 384 \r\nQ 2144 384 2425 690 \r\nQ 2706 997 2706 1503 \r\nQ 2706 1984 2436 2262 \r\nQ 2166 2541 1728 2541 \r\nQ 1456 2541 1237 2417 \r\nQ 1019 2294 894 2097 \r\nL 366 2166 \r\nL 809 4519 \r\nL 3088 4519 \r\nL 3088 3981 \r\nL 1259 3981 \r\nL 1013 2750 \r\nQ 1425 3038 1878 3038 \r\nQ 2478 3038 2890 2622 \r\nQ 3303 2206 3303 1553 \r\nQ 3303 931 2941 478 \r\nQ 2500 -78 1738 -78 \r\nQ 1113 -78 717 272 \r\nQ 322 622 266 1200 \r\nz\r\n\" id=\"ArialMT-35\" transform=\"scale(0.015625)\"/>\r\n       </defs>\r\n       <use xlink:href=\"#ArialMT-35\"/>\r\n      </g>\r\n     </g>\r\n    </g>\r\n    <g id=\"xtick_6\">\r\n     <g id=\"line2d_6\">\r\n      <path clip-path=\"url(#pb67e221e42)\" d=\"M 612.762124 460.964062 \r\nL 612.762124 26.084062 \r\n\" style=\"fill:none;stroke:#ffffff;stroke-linecap:round;\"/>\r\n     </g>\r\n     <g id=\"text_6\">\r\n      <!-- 6 -->\r\n      <g style=\"fill:#262626;\" transform=\"translate(608.17435 482.274453)scale(0.165 -0.165)\">\r\n       <defs>\r\n        <path d=\"M 3184 3459 \r\nL 2625 3416 \r\nQ 2550 3747 2413 3897 \r\nQ 2184 4138 1850 4138 \r\nQ 1581 4138 1378 3988 \r\nQ 1113 3794 959 3422 \r\nQ 806 3050 800 2363 \r\nQ 1003 2672 1297 2822 \r\nQ 1591 2972 1913 2972 \r\nQ 2475 2972 2870 2558 \r\nQ 3266 2144 3266 1488 \r\nQ 3266 1056 3080 686 \r\nQ 2894 316 2569 119 \r\nQ 2244 -78 1831 -78 \r\nQ 1128 -78 684 439 \r\nQ 241 956 241 2144 \r\nQ 241 3472 731 4075 \r\nQ 1159 4600 1884 4600 \r\nQ 2425 4600 2770 4297 \r\nQ 3116 3994 3184 3459 \r\nz\r\nM 888 1484 \r\nQ 888 1194 1011 928 \r\nQ 1134 663 1356 523 \r\nQ 1578 384 1822 384 \r\nQ 2178 384 2434 671 \r\nQ 2691 959 2691 1453 \r\nQ 2691 1928 2437 2201 \r\nQ 2184 2475 1800 2475 \r\nQ 1419 2475 1153 2201 \r\nQ 888 1928 888 1484 \r\nz\r\n\" id=\"ArialMT-36\" transform=\"scale(0.015625)\"/>\r\n       </defs>\r\n       <use xlink:href=\"#ArialMT-36\"/>\r\n      </g>\r\n     </g>\r\n    </g>\r\n    <g id=\"xtick_7\">\r\n     <g id=\"line2d_7\">\r\n      <path clip-path=\"url(#pb67e221e42)\" d=\"M 714.216669 460.964062 \r\nL 714.216669 26.084062 \r\n\" style=\"fill:none;stroke:#ffffff;stroke-linecap:round;\"/>\r\n     </g>\r\n     <g id=\"text_7\">\r\n      <!-- 7 -->\r\n      <g style=\"fill:#262626;\" transform=\"translate(709.628896 482.274453)scale(0.165 -0.165)\">\r\n       <defs>\r\n        <path d=\"M 303 3981 \r\nL 303 4522 \r\nL 3269 4522 \r\nL 3269 4084 \r\nQ 2831 3619 2401 2847 \r\nQ 1972 2075 1738 1259 \r\nQ 1569 684 1522 0 \r\nL 944 0 \r\nQ 953 541 1156 1306 \r\nQ 1359 2072 1739 2783 \r\nQ 2119 3494 2547 3981 \r\nL 303 3981 \r\nz\r\n\" id=\"ArialMT-37\" transform=\"scale(0.015625)\"/>\r\n       </defs>\r\n       <use xlink:href=\"#ArialMT-37\"/>\r\n      </g>\r\n     </g>\r\n    </g>\r\n    <g id=\"xtick_8\">\r\n     <g id=\"line2d_8\">\r\n      <path clip-path=\"url(#pb67e221e42)\" d=\"M 815.671214 460.964062 \r\nL 815.671214 26.084062 \r\n\" style=\"fill:none;stroke:#ffffff;stroke-linecap:round;\"/>\r\n     </g>\r\n     <g id=\"text_8\">\r\n      <!-- 8 -->\r\n      <g style=\"fill:#262626;\" transform=\"translate(811.083441 482.274453)scale(0.165 -0.165)\">\r\n       <defs>\r\n        <path d=\"M 1131 2484 \r\nQ 781 2613 612 2850 \r\nQ 444 3088 444 3419 \r\nQ 444 3919 803 4259 \r\nQ 1163 4600 1759 4600 \r\nQ 2359 4600 2725 4251 \r\nQ 3091 3903 3091 3403 \r\nQ 3091 3084 2923 2848 \r\nQ 2756 2613 2416 2484 \r\nQ 2838 2347 3058 2040 \r\nQ 3278 1734 3278 1309 \r\nQ 3278 722 2862 322 \r\nQ 2447 -78 1769 -78 \r\nQ 1091 -78 675 323 \r\nQ 259 725 259 1325 \r\nQ 259 1772 486 2073 \r\nQ 713 2375 1131 2484 \r\nz\r\nM 1019 3438 \r\nQ 1019 3113 1228 2906 \r\nQ 1438 2700 1772 2700 \r\nQ 2097 2700 2305 2904 \r\nQ 2513 3109 2513 3406 \r\nQ 2513 3716 2298 3927 \r\nQ 2084 4138 1766 4138 \r\nQ 1444 4138 1231 3931 \r\nQ 1019 3725 1019 3438 \r\nz\r\nM 838 1322 \r\nQ 838 1081 952 856 \r\nQ 1066 631 1291 507 \r\nQ 1516 384 1775 384 \r\nQ 2178 384 2440 643 \r\nQ 2703 903 2703 1303 \r\nQ 2703 1709 2433 1975 \r\nQ 2163 2241 1756 2241 \r\nQ 1359 2241 1098 1978 \r\nQ 838 1716 838 1322 \r\nz\r\n\" id=\"ArialMT-38\" transform=\"scale(0.015625)\"/>\r\n       </defs>\r\n       <use xlink:href=\"#ArialMT-38\"/>\r\n      </g>\r\n     </g>\r\n    </g>\r\n    <g id=\"xtick_9\">\r\n     <g id=\"line2d_9\">\r\n      <path clip-path=\"url(#pb67e221e42)\" d=\"M 917.12576 460.964062 \r\nL 917.12576 26.084062 \r\n\" style=\"fill:none;stroke:#ffffff;stroke-linecap:round;\"/>\r\n     </g>\r\n     <g id=\"text_9\">\r\n      <!-- 9 -->\r\n      <g style=\"fill:#262626;\" transform=\"translate(912.537987 482.274453)scale(0.165 -0.165)\">\r\n       <defs>\r\n        <path d=\"M 350 1059 \r\nL 891 1109 \r\nQ 959 728 1153 556 \r\nQ 1347 384 1650 384 \r\nQ 1909 384 2104 503 \r\nQ 2300 622 2425 820 \r\nQ 2550 1019 2634 1356 \r\nQ 2719 1694 2719 2044 \r\nQ 2719 2081 2716 2156 \r\nQ 2547 1888 2255 1720 \r\nQ 1963 1553 1622 1553 \r\nQ 1053 1553 659 1965 \r\nQ 266 2378 266 3053 \r\nQ 266 3750 677 4175 \r\nQ 1088 4600 1706 4600 \r\nQ 2153 4600 2523 4359 \r\nQ 2894 4119 3086 3673 \r\nQ 3278 3228 3278 2384 \r\nQ 3278 1506 3087 986 \r\nQ 2897 466 2520 194 \r\nQ 2144 -78 1638 -78 \r\nQ 1100 -78 759 220 \r\nQ 419 519 350 1059 \r\nz\r\nM 2653 3081 \r\nQ 2653 3566 2395 3850 \r\nQ 2138 4134 1775 4134 \r\nQ 1400 4134 1122 3828 \r\nQ 844 3522 844 3034 \r\nQ 844 2597 1108 2323 \r\nQ 1372 2050 1759 2050 \r\nQ 2150 2050 2401 2323 \r\nQ 2653 2597 2653 3081 \r\nz\r\n\" id=\"ArialMT-39\" transform=\"scale(0.015625)\"/>\r\n       </defs>\r\n       <use xlink:href=\"#ArialMT-39\"/>\r\n      </g>\r\n     </g>\r\n    </g>\r\n    <g id=\"text_10\">\r\n     <!-- Cluster Count -->\r\n     <g style=\"fill:#262626;\" transform=\"translate(456.286641 502.437891)scale(0.18 -0.18)\">\r\n      <defs>\r\n       <path d=\"M 3763 1606 \r\nL 4369 1453 \r\nQ 4178 706 3683 314 \r\nQ 3188 -78 2472 -78 \r\nQ 1731 -78 1267 223 \r\nQ 803 525 561 1097 \r\nQ 319 1669 319 2325 \r\nQ 319 3041 592 3573 \r\nQ 866 4106 1370 4382 \r\nQ 1875 4659 2481 4659 \r\nQ 3169 4659 3637 4309 \r\nQ 4106 3959 4291 3325 \r\nL 3694 3184 \r\nQ 3534 3684 3231 3912 \r\nQ 2928 4141 2469 4141 \r\nQ 1941 4141 1586 3887 \r\nQ 1231 3634 1087 3207 \r\nQ 944 2781 944 2328 \r\nQ 944 1744 1114 1308 \r\nQ 1284 872 1643 656 \r\nQ 2003 441 2422 441 \r\nQ 2931 441 3284 734 \r\nQ 3638 1028 3763 1606 \r\nz\r\n\" id=\"ArialMT-43\" transform=\"scale(0.015625)\"/>\r\n       <path d=\"M 409 0 \r\nL 409 4581 \r\nL 972 4581 \r\nL 972 0 \r\nL 409 0 \r\nz\r\n\" id=\"ArialMT-6c\" transform=\"scale(0.015625)\"/>\r\n       <path d=\"M 2597 0 \r\nL 2597 488 \r\nQ 2209 -75 1544 -75 \r\nQ 1250 -75 995 37 \r\nQ 741 150 617 320 \r\nQ 494 491 444 738 \r\nQ 409 903 409 1263 \r\nL 409 3319 \r\nL 972 3319 \r\nL 972 1478 \r\nQ 972 1038 1006 884 \r\nQ 1059 663 1231 536 \r\nQ 1403 409 1656 409 \r\nQ 1909 409 2131 539 \r\nQ 2353 669 2445 892 \r\nQ 2538 1116 2538 1541 \r\nL 2538 3319 \r\nL 3100 3319 \r\nL 3100 0 \r\nL 2597 0 \r\nz\r\n\" id=\"ArialMT-75\" transform=\"scale(0.015625)\"/>\r\n       <path d=\"M 197 991 \r\nL 753 1078 \r\nQ 800 744 1014 566 \r\nQ 1228 388 1613 388 \r\nQ 2000 388 2187 545 \r\nQ 2375 703 2375 916 \r\nQ 2375 1106 2209 1216 \r\nQ 2094 1291 1634 1406 \r\nQ 1016 1563 777 1677 \r\nQ 538 1791 414 1992 \r\nQ 291 2194 291 2438 \r\nQ 291 2659 392 2848 \r\nQ 494 3038 669 3163 \r\nQ 800 3259 1026 3326 \r\nQ 1253 3394 1513 3394 \r\nQ 1903 3394 2198 3281 \r\nQ 2494 3169 2634 2976 \r\nQ 2775 2784 2828 2463 \r\nL 2278 2388 \r\nQ 2241 2644 2061 2787 \r\nQ 1881 2931 1553 2931 \r\nQ 1166 2931 1000 2803 \r\nQ 834 2675 834 2503 \r\nQ 834 2394 903 2306 \r\nQ 972 2216 1119 2156 \r\nQ 1203 2125 1616 2013 \r\nQ 2213 1853 2448 1751 \r\nQ 2684 1650 2818 1456 \r\nQ 2953 1263 2953 975 \r\nQ 2953 694 2789 445 \r\nQ 2625 197 2315 61 \r\nQ 2006 -75 1616 -75 \r\nQ 969 -75 630 194 \r\nQ 291 463 197 991 \r\nz\r\n\" id=\"ArialMT-73\" transform=\"scale(0.015625)\"/>\r\n       <path d=\"M 1650 503 \r\nL 1731 6 \r\nQ 1494 -44 1306 -44 \r\nQ 1000 -44 831 53 \r\nQ 663 150 594 308 \r\nQ 525 466 525 972 \r\nL 525 2881 \r\nL 113 2881 \r\nL 113 3319 \r\nL 525 3319 \r\nL 525 4141 \r\nL 1084 4478 \r\nL 1084 3319 \r\nL 1650 3319 \r\nL 1650 2881 \r\nL 1084 2881 \r\nL 1084 941 \r\nQ 1084 700 1114 631 \r\nQ 1144 563 1211 522 \r\nQ 1278 481 1403 481 \r\nQ 1497 481 1650 503 \r\nz\r\n\" id=\"ArialMT-74\" transform=\"scale(0.015625)\"/>\r\n       <path d=\"M 2694 1069 \r\nL 3275 997 \r\nQ 3138 488 2766 206 \r\nQ 2394 -75 1816 -75 \r\nQ 1088 -75 661 373 \r\nQ 234 822 234 1631 \r\nQ 234 2469 665 2931 \r\nQ 1097 3394 1784 3394 \r\nQ 2450 3394 2872 2941 \r\nQ 3294 2488 3294 1666 \r\nQ 3294 1616 3291 1516 \r\nL 816 1516 \r\nQ 847 969 1125 678 \r\nQ 1403 388 1819 388 \r\nQ 2128 388 2347 550 \r\nQ 2566 713 2694 1069 \r\nz\r\nM 847 1978 \r\nL 2700 1978 \r\nQ 2663 2397 2488 2606 \r\nQ 2219 2931 1791 2931 \r\nQ 1403 2931 1139 2672 \r\nQ 875 2413 847 1978 \r\nz\r\n\" id=\"ArialMT-65\" transform=\"scale(0.015625)\"/>\r\n       <path d=\"M 416 0 \r\nL 416 3319 \r\nL 922 3319 \r\nL 922 2816 \r\nQ 1116 3169 1280 3281 \r\nQ 1444 3394 1641 3394 \r\nQ 1925 3394 2219 3213 \r\nL 2025 2691 \r\nQ 1819 2813 1613 2813 \r\nQ 1428 2813 1281 2702 \r\nQ 1134 2591 1072 2394 \r\nQ 978 2094 978 1738 \r\nL 978 0 \r\nL 416 0 \r\nz\r\n\" id=\"ArialMT-72\" transform=\"scale(0.015625)\"/>\r\n       <path id=\"ArialMT-20\" transform=\"scale(0.015625)\"/>\r\n       <path d=\"M 213 1659 \r\nQ 213 2581 725 3025 \r\nQ 1153 3394 1769 3394 \r\nQ 2453 3394 2887 2945 \r\nQ 3322 2497 3322 1706 \r\nQ 3322 1066 3130 698 \r\nQ 2938 331 2570 128 \r\nQ 2203 -75 1769 -75 \r\nQ 1072 -75 642 372 \r\nQ 213 819 213 1659 \r\nz\r\nM 791 1659 \r\nQ 791 1022 1069 705 \r\nQ 1347 388 1769 388 \r\nQ 2188 388 2466 706 \r\nQ 2744 1025 2744 1678 \r\nQ 2744 2294 2464 2611 \r\nQ 2184 2928 1769 2928 \r\nQ 1347 2928 1069 2612 \r\nQ 791 2297 791 1659 \r\nz\r\n\" id=\"ArialMT-6f\" transform=\"scale(0.015625)\"/>\r\n       <path d=\"M 422 0 \r\nL 422 3319 \r\nL 928 3319 \r\nL 928 2847 \r\nQ 1294 3394 1984 3394 \r\nQ 2284 3394 2536 3286 \r\nQ 2788 3178 2913 3003 \r\nQ 3038 2828 3088 2588 \r\nQ 3119 2431 3119 2041 \r\nL 3119 0 \r\nL 2556 0 \r\nL 2556 2019 \r\nQ 2556 2363 2490 2533 \r\nQ 2425 2703 2258 2804 \r\nQ 2091 2906 1866 2906 \r\nQ 1506 2906 1245 2678 \r\nQ 984 2450 984 1813 \r\nL 984 0 \r\nL 422 0 \r\nz\r\n\" id=\"ArialMT-6e\" transform=\"scale(0.015625)\"/>\r\n      </defs>\r\n      <use xlink:href=\"#ArialMT-43\"/>\r\n      <use x=\"72.216797\" xlink:href=\"#ArialMT-6c\"/>\r\n      <use x=\"94.433594\" xlink:href=\"#ArialMT-75\"/>\r\n      <use x=\"150.048828\" xlink:href=\"#ArialMT-73\"/>\r\n      <use x=\"200.048828\" xlink:href=\"#ArialMT-74\"/>\r\n      <use x=\"227.832031\" xlink:href=\"#ArialMT-65\"/>\r\n      <use x=\"283.447266\" xlink:href=\"#ArialMT-72\"/>\r\n      <use x=\"316.748047\" xlink:href=\"#ArialMT-20\"/>\r\n      <use x=\"344.53125\" xlink:href=\"#ArialMT-43\"/>\r\n      <use x=\"416.748047\" xlink:href=\"#ArialMT-6f\"/>\r\n      <use x=\"472.363281\" xlink:href=\"#ArialMT-75\"/>\r\n      <use x=\"527.978516\" xlink:href=\"#ArialMT-6e\"/>\r\n      <use x=\"583.59375\" xlink:href=\"#ArialMT-74\"/>\r\n     </g>\r\n    </g>\r\n   </g>\r\n   <g id=\"matplotlib.axis_2\">\r\n    <g id=\"ytick_1\">\r\n     <g id=\"line2d_10\">\r\n      <path clip-path=\"url(#pb67e221e42)\" d=\"M 64.907578 426.530601 \r\nL 957.707578 426.530601 \r\n\" style=\"fill:none;stroke:#ffffff;stroke-linecap:round;\"/>\r\n     </g>\r\n     <g id=\"text_11\">\r\n      <!-- 50 -->\r\n      <g style=\"fill:#262626;\" transform=\"translate(37.056484 432.435797)scale(0.165 -0.165)\">\r\n       <defs>\r\n        <path d=\"M 266 2259 \r\nQ 266 3072 433 3567 \r\nQ 600 4063 929 4331 \r\nQ 1259 4600 1759 4600 \r\nQ 2128 4600 2406 4451 \r\nQ 2684 4303 2865 4023 \r\nQ 3047 3744 3150 3342 \r\nQ 3253 2941 3253 2259 \r\nQ 3253 1453 3087 958 \r\nQ 2922 463 2592 192 \r\nQ 2263 -78 1759 -78 \r\nQ 1097 -78 719 397 \r\nQ 266 969 266 2259 \r\nz\r\nM 844 2259 \r\nQ 844 1131 1108 757 \r\nQ 1372 384 1759 384 \r\nQ 2147 384 2411 759 \r\nQ 2675 1134 2675 2259 \r\nQ 2675 3391 2411 3762 \r\nQ 2147 4134 1753 4134 \r\nQ 1366 4134 1134 3806 \r\nQ 844 3388 844 2259 \r\nz\r\n\" id=\"ArialMT-30\" transform=\"scale(0.015625)\"/>\r\n       </defs>\r\n       <use xlink:href=\"#ArialMT-35\"/>\r\n       <use x=\"55.615234\" xlink:href=\"#ArialMT-30\"/>\r\n      </g>\r\n     </g>\r\n    </g>\r\n    <g id=\"ytick_2\">\r\n     <g id=\"line2d_11\">\r\n      <path clip-path=\"url(#pb67e221e42)\" d=\"M 64.907578 375.374209 \r\nL 957.707578 375.374209 \r\n\" style=\"fill:none;stroke:#ffffff;stroke-linecap:round;\"/>\r\n     </g>\r\n     <g id=\"text_12\">\r\n      <!-- 75 -->\r\n      <g style=\"fill:#262626;\" transform=\"translate(37.056484 381.279404)scale(0.165 -0.165)\">\r\n       <use xlink:href=\"#ArialMT-37\"/>\r\n       <use x=\"55.615234\" xlink:href=\"#ArialMT-35\"/>\r\n      </g>\r\n     </g>\r\n    </g>\r\n    <g id=\"ytick_3\">\r\n     <g id=\"line2d_12\">\r\n      <path clip-path=\"url(#pb67e221e42)\" d=\"M 64.907578 324.217817 \r\nL 957.707578 324.217817 \r\n\" style=\"fill:none;stroke:#ffffff;stroke-linecap:round;\"/>\r\n     </g>\r\n     <g id=\"text_13\">\r\n      <!-- 100 -->\r\n      <g style=\"fill:#262626;\" transform=\"translate(27.880938 330.123012)scale(0.165 -0.165)\">\r\n       <use xlink:href=\"#ArialMT-31\"/>\r\n       <use x=\"55.615234\" xlink:href=\"#ArialMT-30\"/>\r\n       <use x=\"111.230469\" xlink:href=\"#ArialMT-30\"/>\r\n      </g>\r\n     </g>\r\n    </g>\r\n    <g id=\"ytick_4\">\r\n     <g id=\"line2d_13\">\r\n      <path clip-path=\"url(#pb67e221e42)\" d=\"M 64.907578 273.061424 \r\nL 957.707578 273.061424 \r\n\" style=\"fill:none;stroke:#ffffff;stroke-linecap:round;\"/>\r\n     </g>\r\n     <g id=\"text_14\">\r\n      <!-- 125 -->\r\n      <g style=\"fill:#262626;\" transform=\"translate(27.880938 278.966619)scale(0.165 -0.165)\">\r\n       <use xlink:href=\"#ArialMT-31\"/>\r\n       <use x=\"55.615234\" xlink:href=\"#ArialMT-32\"/>\r\n       <use x=\"111.230469\" xlink:href=\"#ArialMT-35\"/>\r\n      </g>\r\n     </g>\r\n    </g>\r\n    <g id=\"ytick_5\">\r\n     <g id=\"line2d_14\">\r\n      <path clip-path=\"url(#pb67e221e42)\" d=\"M 64.907578 221.905032 \r\nL 957.707578 221.905032 \r\n\" style=\"fill:none;stroke:#ffffff;stroke-linecap:round;\"/>\r\n     </g>\r\n     <g id=\"text_15\">\r\n      <!-- 150 -->\r\n      <g style=\"fill:#262626;\" transform=\"translate(27.880938 227.810227)scale(0.165 -0.165)\">\r\n       <use xlink:href=\"#ArialMT-31\"/>\r\n       <use x=\"55.615234\" xlink:href=\"#ArialMT-35\"/>\r\n       <use x=\"111.230469\" xlink:href=\"#ArialMT-30\"/>\r\n      </g>\r\n     </g>\r\n    </g>\r\n    <g id=\"ytick_6\">\r\n     <g id=\"line2d_15\">\r\n      <path clip-path=\"url(#pb67e221e42)\" d=\"M 64.907578 170.748639 \r\nL 957.707578 170.748639 \r\n\" style=\"fill:none;stroke:#ffffff;stroke-linecap:round;\"/>\r\n     </g>\r\n     <g id=\"text_16\">\r\n      <!-- 175 -->\r\n      <g style=\"fill:#262626;\" transform=\"translate(27.880938 176.653835)scale(0.165 -0.165)\">\r\n       <use xlink:href=\"#ArialMT-31\"/>\r\n       <use x=\"55.615234\" xlink:href=\"#ArialMT-37\"/>\r\n       <use x=\"111.230469\" xlink:href=\"#ArialMT-35\"/>\r\n      </g>\r\n     </g>\r\n    </g>\r\n    <g id=\"ytick_7\">\r\n     <g id=\"line2d_16\">\r\n      <path clip-path=\"url(#pb67e221e42)\" d=\"M 64.907578 119.592247 \r\nL 957.707578 119.592247 \r\n\" style=\"fill:none;stroke:#ffffff;stroke-linecap:round;\"/>\r\n     </g>\r\n     <g id=\"text_17\">\r\n      <!-- 200 -->\r\n      <g style=\"fill:#262626;\" transform=\"translate(27.880938 125.497442)scale(0.165 -0.165)\">\r\n       <use xlink:href=\"#ArialMT-32\"/>\r\n       <use x=\"55.615234\" xlink:href=\"#ArialMT-30\"/>\r\n       <use x=\"111.230469\" xlink:href=\"#ArialMT-30\"/>\r\n      </g>\r\n     </g>\r\n    </g>\r\n    <g id=\"ytick_8\">\r\n     <g id=\"line2d_17\">\r\n      <path clip-path=\"url(#pb67e221e42)\" d=\"M 64.907578 68.435854 \r\nL 957.707578 68.435854 \r\n\" style=\"fill:none;stroke:#ffffff;stroke-linecap:round;\"/>\r\n     </g>\r\n     <g id=\"text_18\">\r\n      <!-- 225 -->\r\n      <g style=\"fill:#262626;\" transform=\"translate(27.880938 74.34105)scale(0.165 -0.165)\">\r\n       <use xlink:href=\"#ArialMT-32\"/>\r\n       <use x=\"55.615234\" xlink:href=\"#ArialMT-32\"/>\r\n       <use x=\"111.230469\" xlink:href=\"#ArialMT-35\"/>\r\n      </g>\r\n     </g>\r\n    </g>\r\n    <g id=\"text_19\">\r\n     <!-- Sum of Squared Distances -->\r\n     <g style=\"fill:#262626;\" transform=\"translate(20.303438 350.573437)rotate(-90)scale(0.18 -0.18)\">\r\n      <defs>\r\n       <path d=\"M 288 1472 \r\nL 859 1522 \r\nQ 900 1178 1048 958 \r\nQ 1197 738 1509 602 \r\nQ 1822 466 2213 466 \r\nQ 2559 466 2825 569 \r\nQ 3091 672 3220 851 \r\nQ 3350 1031 3350 1244 \r\nQ 3350 1459 3225 1620 \r\nQ 3100 1781 2813 1891 \r\nQ 2628 1963 1997 2114 \r\nQ 1366 2266 1113 2400 \r\nQ 784 2572 623 2826 \r\nQ 463 3081 463 3397 \r\nQ 463 3744 659 4045 \r\nQ 856 4347 1234 4503 \r\nQ 1613 4659 2075 4659 \r\nQ 2584 4659 2973 4495 \r\nQ 3363 4331 3572 4012 \r\nQ 3781 3694 3797 3291 \r\nL 3216 3247 \r\nQ 3169 3681 2898 3903 \r\nQ 2628 4125 2100 4125 \r\nQ 1550 4125 1298 3923 \r\nQ 1047 3722 1047 3438 \r\nQ 1047 3191 1225 3031 \r\nQ 1400 2872 2139 2705 \r\nQ 2878 2538 3153 2413 \r\nQ 3553 2228 3743 1945 \r\nQ 3934 1663 3934 1294 \r\nQ 3934 928 3725 604 \r\nQ 3516 281 3123 101 \r\nQ 2731 -78 2241 -78 \r\nQ 1619 -78 1198 103 \r\nQ 778 284 539 648 \r\nQ 300 1013 288 1472 \r\nz\r\n\" id=\"ArialMT-53\" transform=\"scale(0.015625)\"/>\r\n       <path d=\"M 422 0 \r\nL 422 3319 \r\nL 925 3319 \r\nL 925 2853 \r\nQ 1081 3097 1340 3245 \r\nQ 1600 3394 1931 3394 \r\nQ 2300 3394 2536 3241 \r\nQ 2772 3088 2869 2813 \r\nQ 3263 3394 3894 3394 \r\nQ 4388 3394 4653 3120 \r\nQ 4919 2847 4919 2278 \r\nL 4919 0 \r\nL 4359 0 \r\nL 4359 2091 \r\nQ 4359 2428 4304 2576 \r\nQ 4250 2725 4106 2815 \r\nQ 3963 2906 3769 2906 \r\nQ 3419 2906 3187 2673 \r\nQ 2956 2441 2956 1928 \r\nL 2956 0 \r\nL 2394 0 \r\nL 2394 2156 \r\nQ 2394 2531 2256 2718 \r\nQ 2119 2906 1806 2906 \r\nQ 1569 2906 1367 2781 \r\nQ 1166 2656 1075 2415 \r\nQ 984 2175 984 1722 \r\nL 984 0 \r\nL 422 0 \r\nz\r\n\" id=\"ArialMT-6d\" transform=\"scale(0.015625)\"/>\r\n       <path d=\"M 556 0 \r\nL 556 2881 \r\nL 59 2881 \r\nL 59 3319 \r\nL 556 3319 \r\nL 556 3672 \r\nQ 556 4006 616 4169 \r\nQ 697 4388 901 4523 \r\nQ 1106 4659 1475 4659 \r\nQ 1713 4659 2000 4603 \r\nL 1916 4113 \r\nQ 1741 4144 1584 4144 \r\nQ 1328 4144 1222 4034 \r\nQ 1116 3925 1116 3625 \r\nL 1116 3319 \r\nL 1763 3319 \r\nL 1763 2881 \r\nL 1116 2881 \r\nL 1116 0 \r\nL 556 0 \r\nz\r\n\" id=\"ArialMT-66\" transform=\"scale(0.015625)\"/>\r\n       <path d=\"M 2538 -1272 \r\nL 2538 353 \r\nQ 2406 169 2170 47 \r\nQ 1934 -75 1669 -75 \r\nQ 1078 -75 651 397 \r\nQ 225 869 225 1691 \r\nQ 225 2191 398 2587 \r\nQ 572 2984 901 3189 \r\nQ 1231 3394 1625 3394 \r\nQ 2241 3394 2594 2875 \r\nL 2594 3319 \r\nL 3100 3319 \r\nL 3100 -1272 \r\nL 2538 -1272 \r\nz\r\nM 803 1669 \r\nQ 803 1028 1072 708 \r\nQ 1341 388 1716 388 \r\nQ 2075 388 2334 692 \r\nQ 2594 997 2594 1619 \r\nQ 2594 2281 2320 2615 \r\nQ 2047 2950 1678 2950 \r\nQ 1313 2950 1058 2639 \r\nQ 803 2328 803 1669 \r\nz\r\n\" id=\"ArialMT-71\" transform=\"scale(0.015625)\"/>\r\n       <path d=\"M 2588 409 \r\nQ 2275 144 1986 34 \r\nQ 1697 -75 1366 -75 \r\nQ 819 -75 525 192 \r\nQ 231 459 231 875 \r\nQ 231 1119 342 1320 \r\nQ 453 1522 633 1644 \r\nQ 813 1766 1038 1828 \r\nQ 1203 1872 1538 1913 \r\nQ 2219 1994 2541 2106 \r\nQ 2544 2222 2544 2253 \r\nQ 2544 2597 2384 2738 \r\nQ 2169 2928 1744 2928 \r\nQ 1347 2928 1158 2789 \r\nQ 969 2650 878 2297 \r\nL 328 2372 \r\nQ 403 2725 575 2942 \r\nQ 747 3159 1072 3276 \r\nQ 1397 3394 1825 3394 \r\nQ 2250 3394 2515 3294 \r\nQ 2781 3194 2906 3042 \r\nQ 3031 2891 3081 2659 \r\nQ 3109 2516 3109 2141 \r\nL 3109 1391 \r\nQ 3109 606 3145 398 \r\nQ 3181 191 3288 0 \r\nL 2700 0 \r\nQ 2613 175 2588 409 \r\nz\r\nM 2541 1666 \r\nQ 2234 1541 1622 1453 \r\nQ 1275 1403 1131 1340 \r\nQ 988 1278 909 1158 \r\nQ 831 1038 831 891 \r\nQ 831 666 1001 516 \r\nQ 1172 366 1500 366 \r\nQ 1825 366 2078 508 \r\nQ 2331 650 2450 897 \r\nQ 2541 1088 2541 1459 \r\nL 2541 1666 \r\nz\r\n\" id=\"ArialMT-61\" transform=\"scale(0.015625)\"/>\r\n       <path d=\"M 2575 0 \r\nL 2575 419 \r\nQ 2259 -75 1647 -75 \r\nQ 1250 -75 917 144 \r\nQ 584 363 401 755 \r\nQ 219 1147 219 1656 \r\nQ 219 2153 384 2558 \r\nQ 550 2963 881 3178 \r\nQ 1213 3394 1622 3394 \r\nQ 1922 3394 2156 3267 \r\nQ 2391 3141 2538 2938 \r\nL 2538 4581 \r\nL 3097 4581 \r\nL 3097 0 \r\nL 2575 0 \r\nz\r\nM 797 1656 \r\nQ 797 1019 1065 703 \r\nQ 1334 388 1700 388 \r\nQ 2069 388 2326 689 \r\nQ 2584 991 2584 1609 \r\nQ 2584 2291 2321 2609 \r\nQ 2059 2928 1675 2928 \r\nQ 1300 2928 1048 2622 \r\nQ 797 2316 797 1656 \r\nz\r\n\" id=\"ArialMT-64\" transform=\"scale(0.015625)\"/>\r\n       <path d=\"M 494 0 \r\nL 494 4581 \r\nL 2072 4581 \r\nQ 2606 4581 2888 4516 \r\nQ 3281 4425 3559 4188 \r\nQ 3922 3881 4101 3404 \r\nQ 4281 2928 4281 2316 \r\nQ 4281 1794 4159 1391 \r\nQ 4038 988 3847 723 \r\nQ 3656 459 3429 307 \r\nQ 3203 156 2883 78 \r\nQ 2563 0 2147 0 \r\nL 494 0 \r\nz\r\nM 1100 541 \r\nL 2078 541 \r\nQ 2531 541 2789 625 \r\nQ 3047 709 3200 863 \r\nQ 3416 1078 3536 1442 \r\nQ 3656 1806 3656 2325 \r\nQ 3656 3044 3420 3430 \r\nQ 3184 3816 2847 3947 \r\nQ 2603 4041 2063 4041 \r\nL 1100 4041 \r\nL 1100 541 \r\nz\r\n\" id=\"ArialMT-44\" transform=\"scale(0.015625)\"/>\r\n       <path d=\"M 425 3934 \r\nL 425 4581 \r\nL 988 4581 \r\nL 988 3934 \r\nL 425 3934 \r\nz\r\nM 425 0 \r\nL 425 3319 \r\nL 988 3319 \r\nL 988 0 \r\nL 425 0 \r\nz\r\n\" id=\"ArialMT-69\" transform=\"scale(0.015625)\"/>\r\n       <path d=\"M 2588 1216 \r\nL 3141 1144 \r\nQ 3050 572 2676 248 \r\nQ 2303 -75 1759 -75 \r\nQ 1078 -75 664 370 \r\nQ 250 816 250 1647 \r\nQ 250 2184 428 2587 \r\nQ 606 2991 970 3192 \r\nQ 1334 3394 1763 3394 \r\nQ 2303 3394 2647 3120 \r\nQ 2991 2847 3088 2344 \r\nL 2541 2259 \r\nQ 2463 2594 2264 2762 \r\nQ 2066 2931 1784 2931 \r\nQ 1359 2931 1093 2626 \r\nQ 828 2322 828 1663 \r\nQ 828 994 1084 691 \r\nQ 1341 388 1753 388 \r\nQ 2084 388 2306 591 \r\nQ 2528 794 2588 1216 \r\nz\r\n\" id=\"ArialMT-63\" transform=\"scale(0.015625)\"/>\r\n      </defs>\r\n      <use xlink:href=\"#ArialMT-53\"/>\r\n      <use x=\"66.699219\" xlink:href=\"#ArialMT-75\"/>\r\n      <use x=\"122.314453\" xlink:href=\"#ArialMT-6d\"/>\r\n      <use x=\"205.615234\" xlink:href=\"#ArialMT-20\"/>\r\n      <use x=\"233.398438\" xlink:href=\"#ArialMT-6f\"/>\r\n      <use x=\"289.013672\" xlink:href=\"#ArialMT-66\"/>\r\n      <use x=\"316.796875\" xlink:href=\"#ArialMT-20\"/>\r\n      <use x=\"344.580078\" xlink:href=\"#ArialMT-53\"/>\r\n      <use x=\"411.279297\" xlink:href=\"#ArialMT-71\"/>\r\n      <use x=\"466.894531\" xlink:href=\"#ArialMT-75\"/>\r\n      <use x=\"522.509766\" xlink:href=\"#ArialMT-61\"/>\r\n      <use x=\"578.125\" xlink:href=\"#ArialMT-72\"/>\r\n      <use x=\"611.425781\" xlink:href=\"#ArialMT-65\"/>\r\n      <use x=\"667.041016\" xlink:href=\"#ArialMT-64\"/>\r\n      <use x=\"722.65625\" xlink:href=\"#ArialMT-20\"/>\r\n      <use x=\"750.439453\" xlink:href=\"#ArialMT-44\"/>\r\n      <use x=\"822.65625\" xlink:href=\"#ArialMT-69\"/>\r\n      <use x=\"844.873047\" xlink:href=\"#ArialMT-73\"/>\r\n      <use x=\"894.873047\" xlink:href=\"#ArialMT-74\"/>\r\n      <use x=\"922.65625\" xlink:href=\"#ArialMT-61\"/>\r\n      <use x=\"978.271484\" xlink:href=\"#ArialMT-6e\"/>\r\n      <use x=\"1033.886719\" xlink:href=\"#ArialMT-63\"/>\r\n      <use x=\"1083.886719\" xlink:href=\"#ArialMT-65\"/>\r\n      <use x=\"1139.501953\" xlink:href=\"#ArialMT-73\"/>\r\n     </g>\r\n    </g>\r\n   </g>\r\n   <g id=\"LineCollection_1\">\r\n    <path clip-path=\"url(#pb67e221e42)\" d=\"M 308.398487 441.19679 \r\nL 308.398487 45.851335 \r\n\" style=\"fill:none;stroke:#4c72b0;stroke-dasharray:5.55,2.4;stroke-dashoffset:0;stroke-width:1.5;\"/>\r\n   </g>\r\n   <g id=\"line2d_18\">\r\n    <path clip-path=\"url(#pb67e221e42)\" d=\"M 105.489396 63.821583 \r\nL 206.943942 309.233369 \r\nL 308.398487 364.502466 \r\nL 409.853033 382.773869 \r\nL 511.307578 397.615402 \r\nL 612.762124 403.080518 \r\nL 714.216669 415.317039 \r\nL 815.671214 415.945813 \r\nL 917.12576 423.226542 \r\n\" style=\"fill:none;stroke:#4c72b0;stroke-linecap:round;stroke-width:1.5;\"/>\r\n    <defs>\r\n     <path d=\"M -3 3 \r\nL 3 -3 \r\nM -3 -3 \r\nL 3 3 \r\n\" id=\"m5af558706a\" style=\"stroke:#4c72b0;\"/>\r\n    </defs>\r\n    <g clip-path=\"url(#pb67e221e42)\">\r\n     <use style=\"fill:#4c72b0;stroke:#4c72b0;\" x=\"105.489396\" xlink:href=\"#m5af558706a\" y=\"63.821583\"/>\r\n     <use style=\"fill:#4c72b0;stroke:#4c72b0;\" x=\"206.943942\" xlink:href=\"#m5af558706a\" y=\"309.233369\"/>\r\n     <use style=\"fill:#4c72b0;stroke:#4c72b0;\" x=\"308.398487\" xlink:href=\"#m5af558706a\" y=\"364.502466\"/>\r\n     <use style=\"fill:#4c72b0;stroke:#4c72b0;\" x=\"409.853033\" xlink:href=\"#m5af558706a\" y=\"382.773869\"/>\r\n     <use style=\"fill:#4c72b0;stroke:#4c72b0;\" x=\"511.307578\" xlink:href=\"#m5af558706a\" y=\"397.615402\"/>\r\n     <use style=\"fill:#4c72b0;stroke:#4c72b0;\" x=\"612.762124\" xlink:href=\"#m5af558706a\" y=\"403.080518\"/>\r\n     <use style=\"fill:#4c72b0;stroke:#4c72b0;\" x=\"714.216669\" xlink:href=\"#m5af558706a\" y=\"415.317039\"/>\r\n     <use style=\"fill:#4c72b0;stroke:#4c72b0;\" x=\"815.671214\" xlink:href=\"#m5af558706a\" y=\"415.945813\"/>\r\n     <use style=\"fill:#4c72b0;stroke:#4c72b0;\" x=\"917.12576\" xlink:href=\"#m5af558706a\" y=\"423.226542\"/>\r\n    </g>\r\n   </g>\r\n   <g id=\"patch_3\">\r\n    <path d=\"M 64.907578 460.964062 \r\nL 64.907578 26.084063 \r\n\" style=\"fill:none;stroke:#ffffff;stroke-linecap:square;stroke-linejoin:miter;stroke-width:1.25;\"/>\r\n   </g>\r\n   <g id=\"patch_4\">\r\n    <path d=\"M 957.707578 460.964062 \r\nL 957.707578 26.084063 \r\n\" style=\"fill:none;stroke:#ffffff;stroke-linecap:square;stroke-linejoin:miter;stroke-width:1.25;\"/>\r\n   </g>\r\n   <g id=\"patch_5\">\r\n    <path d=\"M 64.907578 460.964062 \r\nL 957.707578 460.964062 \r\n\" style=\"fill:none;stroke:#ffffff;stroke-linecap:square;stroke-linejoin:miter;stroke-width:1.25;\"/>\r\n   </g>\r\n   <g id=\"patch_6\">\r\n    <path d=\"M 64.907578 26.084062 \r\nL 957.707578 26.084062 \r\n\" style=\"fill:none;stroke:#ffffff;stroke-linecap:square;stroke-linejoin:miter;stroke-width:1.25;\"/>\r\n   </g>\r\n   <g id=\"text_20\">\r\n    <!-- The Elbow Method -->\r\n    <g style=\"fill:#262626;\" transform=\"translate(436.271484 20.084062)scale(0.18 -0.18)\">\r\n     <defs>\r\n      <path d=\"M 1659 0 \r\nL 1659 4041 \r\nL 150 4041 \r\nL 150 4581 \r\nL 3781 4581 \r\nL 3781 4041 \r\nL 2266 4041 \r\nL 2266 0 \r\nL 1659 0 \r\nz\r\n\" id=\"ArialMT-54\" transform=\"scale(0.015625)\"/>\r\n      <path d=\"M 422 0 \r\nL 422 4581 \r\nL 984 4581 \r\nL 984 2938 \r\nQ 1378 3394 1978 3394 \r\nQ 2347 3394 2619 3248 \r\nQ 2891 3103 3008 2847 \r\nQ 3125 2591 3125 2103 \r\nL 3125 0 \r\nL 2563 0 \r\nL 2563 2103 \r\nQ 2563 2525 2380 2717 \r\nQ 2197 2909 1863 2909 \r\nQ 1613 2909 1392 2779 \r\nQ 1172 2650 1078 2428 \r\nQ 984 2206 984 1816 \r\nL 984 0 \r\nL 422 0 \r\nz\r\n\" id=\"ArialMT-68\" transform=\"scale(0.015625)\"/>\r\n      <path d=\"M 506 0 \r\nL 506 4581 \r\nL 3819 4581 \r\nL 3819 4041 \r\nL 1113 4041 \r\nL 1113 2638 \r\nL 3647 2638 \r\nL 3647 2100 \r\nL 1113 2100 \r\nL 1113 541 \r\nL 3925 541 \r\nL 3925 0 \r\nL 506 0 \r\nz\r\n\" id=\"ArialMT-45\" transform=\"scale(0.015625)\"/>\r\n      <path d=\"M 941 0 \r\nL 419 0 \r\nL 419 4581 \r\nL 981 4581 \r\nL 981 2947 \r\nQ 1338 3394 1891 3394 \r\nQ 2197 3394 2470 3270 \r\nQ 2744 3147 2920 2923 \r\nQ 3097 2700 3197 2384 \r\nQ 3297 2069 3297 1709 \r\nQ 3297 856 2875 390 \r\nQ 2453 -75 1863 -75 \r\nQ 1275 -75 941 416 \r\nL 941 0 \r\nz\r\nM 934 1684 \r\nQ 934 1088 1097 822 \r\nQ 1363 388 1816 388 \r\nQ 2184 388 2453 708 \r\nQ 2722 1028 2722 1663 \r\nQ 2722 2313 2464 2622 \r\nQ 2206 2931 1841 2931 \r\nQ 1472 2931 1203 2611 \r\nQ 934 2291 934 1684 \r\nz\r\n\" id=\"ArialMT-62\" transform=\"scale(0.015625)\"/>\r\n      <path d=\"M 1034 0 \r\nL 19 3319 \r\nL 600 3319 \r\nL 1128 1403 \r\nL 1325 691 \r\nQ 1338 744 1497 1375 \r\nL 2025 3319 \r\nL 2603 3319 \r\nL 3100 1394 \r\nL 3266 759 \r\nL 3456 1400 \r\nL 4025 3319 \r\nL 4572 3319 \r\nL 3534 0 \r\nL 2950 0 \r\nL 2422 1988 \r\nL 2294 2553 \r\nL 1622 0 \r\nL 1034 0 \r\nz\r\n\" id=\"ArialMT-77\" transform=\"scale(0.015625)\"/>\r\n      <path d=\"M 475 0 \r\nL 475 4581 \r\nL 1388 4581 \r\nL 2472 1338 \r\nQ 2622 884 2691 659 \r\nQ 2769 909 2934 1394 \r\nL 4031 4581 \r\nL 4847 4581 \r\nL 4847 0 \r\nL 4263 0 \r\nL 4263 3834 \r\nL 2931 0 \r\nL 2384 0 \r\nL 1059 3900 \r\nL 1059 0 \r\nL 475 0 \r\nz\r\n\" id=\"ArialMT-4d\" transform=\"scale(0.015625)\"/>\r\n     </defs>\r\n     <use xlink:href=\"#ArialMT-54\"/>\r\n     <use x=\"61.083984\" xlink:href=\"#ArialMT-68\"/>\r\n     <use x=\"116.699219\" xlink:href=\"#ArialMT-65\"/>\r\n     <use x=\"172.314453\" xlink:href=\"#ArialMT-20\"/>\r\n     <use x=\"200.097656\" xlink:href=\"#ArialMT-45\"/>\r\n     <use x=\"266.796875\" xlink:href=\"#ArialMT-6c\"/>\r\n     <use x=\"289.013672\" xlink:href=\"#ArialMT-62\"/>\r\n     <use x=\"344.628906\" xlink:href=\"#ArialMT-6f\"/>\r\n     <use x=\"400.244141\" xlink:href=\"#ArialMT-77\"/>\r\n     <use x=\"472.460938\" xlink:href=\"#ArialMT-20\"/>\r\n     <use x=\"500.244141\" xlink:href=\"#ArialMT-4d\"/>\r\n     <use x=\"583.544922\" xlink:href=\"#ArialMT-65\"/>\r\n     <use x=\"639.160156\" xlink:href=\"#ArialMT-74\"/>\r\n     <use x=\"666.943359\" xlink:href=\"#ArialMT-68\"/>\r\n     <use x=\"722.558594\" xlink:href=\"#ArialMT-6f\"/>\r\n     <use x=\"778.173828\" xlink:href=\"#ArialMT-64\"/>\r\n    </g>\r\n   </g>\r\n  </g>\r\n </g>\r\n <defs>\r\n  <clipPath id=\"pb67e221e42\">\r\n   <rect height=\"434.88\" width=\"892.8\" x=\"64.907578\" y=\"26.084062\"/>\r\n  </clipPath>\r\n </defs>\r\n</svg>\r\n",
      "image/png": "[encoded data removed]"
     },
     "metadata": {}
    }
   ],
   "metadata": {}
  },
  {
   "cell_type": "markdown",
   "source": [
    "## Train"
   ],
   "metadata": {}
  },
  {
   "cell_type": "code",
   "execution_count": 103,
   "source": [
    "#Train - With 3 Clusters\r\n",
    "clf = KMeansClusterClassifier(n_clusters=elbow_point)\r\n",
    "clf.fit(X_train, y_train)"
   ],
   "outputs": [],
   "metadata": {}
  },
  {
   "cell_type": "markdown",
   "source": [
    "# Results\r\n",
    "\r\n",
    " * Accuracy\r\n",
    " * Precision\r\n",
    " * Recall\r\n",
    " * F1-Score\r\n",
    "\r\n",
    "Since the train (80%) and test (20%) datas are getting shuffled the result might differ after each run."
   ],
   "metadata": {}
  },
  {
   "cell_type": "markdown",
   "source": [
    "## 3D Plot After Clustering"
   ],
   "metadata": {}
  },
  {
   "cell_type": "code",
   "execution_count": 104,
   "source": [
    "#3D Plot After Clustering\r\n",
    "centroids = clf.centroids\r\n",
    "centroid_labels = clf.centroid_labels\r\n",
    "df = data\r\n",
    "\r\n",
    "#3D-Plot\r\n",
    "index = 0\r\n",
    "for line in df.iterrows():\r\n",
    "  val = line[1]\r\n",
    "  feature = val[:4]\r\n",
    "  mindist = sys.maxsize\r\n",
    "  for i in range(len(centroids)):\r\n",
    "    dist = euclidean_distance(feature, centroids[i])\r\n",
    "    if mindist > dist:\r\n",
    "      mindist = dist\r\n",
    "      if centroid_labels[i] == 0:\r\n",
    "        df.loc[index, 'species'] = 'setosa'\r\n",
    "      elif centroid_labels[i] == 1:\r\n",
    "        df.loc[index, 'species'] = 'versicolor'\r\n",
    "      else:\r\n",
    "        df.loc[index, 'species'] = 'virginica'\r\n",
    "  index += 1\r\n",
    "\r\n",
    "fig = px.scatter_3d(df, x='sepal_length', y='sepal_width', z='petal_width',\r\n",
    "              color='species', size='petal_length', size_max=15, opacity=1, title=\"3D Plot After Clustering\")\r\n",
    "\r\n",
    "# tight layout\r\n",
    "\r\n",
    "fig.update_layout(margin=dict(l=0, r=0, b=0, t=0))\r\n",
    "fig.show()"
   ],
   "outputs": [
    {
     "output_type": "display_data",
     "data": {
      "application/vnd.plotly.v1+json": {
       "config": {
        "plotlyServerURL": "https://plot.ly"
       },
       "data": [
        {
         "hovertemplate": "species=virginica<br>sepal_length=%{x}<br>sepal_width=%{y}<br>petal_width=%{z}<br>petal_length=%{marker.size}<extra></extra>",
         "legendgroup": "virginica",
         "marker": {
          "color": "#636efa",
          "opacity": 1,
          "size": [
           1.4,
           1.4,
           1.3,
           1.5,
           1.4,
           1.7,
           1.4,
           1.5,
           1.4,
           1.5,
           1.5,
           1.6,
           1.4,
           1.1,
           1.2,
           1.5,
           1.3,
           1.4,
           1.7,
           1.5,
           1.7,
           1.5,
           1,
           1.7,
           1.9,
           1.6,
           1.6,
           1.5,
           1.4,
           1.6,
           1.6,
           1.5,
           1.5,
           1.4,
           1.5,
           1.2,
           1.3,
           1.5,
           1.3,
           1.5,
           1.3,
           1.3,
           1.3,
           1.6,
           1.9,
           1.4,
           1.6,
           1.4,
           1.5,
           1.4
          ],
          "sizemode": "area",
          "sizeref": 0.03066666666666667,
          "symbol": "circle"
         },
         "mode": "markers",
         "name": "virginica",
         "scene": "scene",
         "showlegend": true,
         "type": "scatter3d",
         "x": [
          5.1,
          4.9,
          4.7,
          4.6,
          5,
          5.4,
          4.6,
          5,
          4.4,
          4.9,
          5.4,
          4.8,
          4.8,
          4.3,
          5.8,
          5.7,
          5.4,
          5.1,
          5.7,
          5.1,
          5.4,
          5.1,
          4.6,
          5.1,
          4.8,
          5,
          5,
          5.2,
          5.2,
          4.7,
          4.8,
          5.4,
          5.2,
          5.5,
          4.9,
          5,
          5.5,
          4.9,
          4.4,
          5.1,
          5,
          4.5,
          4.4,
          5,
          5.1,
          4.8,
          5.1,
          4.6,
          5.3,
          5
         ],
         "y": [
          3.5,
          3,
          3.2,
          3.1,
          3.6,
          3.9,
          3.4,
          3.4,
          2.9,
          3.1,
          3.7,
          3.4,
          3,
          3,
          4,
          4.4,
          3.9,
          3.5,
          3.8,
          3.8,
          3.4,
          3.7,
          3.6,
          3.3,
          3.4,
          3,
          3.4,
          3.5,
          3.4,
          3.2,
          3.1,
          3.4,
          4.1,
          4.2,
          3.1,
          3.2,
          3.5,
          3.1,
          3,
          3.4,
          3.5,
          2.3,
          3.2,
          3.5,
          3.8,
          3,
          3.8,
          3.2,
          3.7,
          3.3
         ],
         "z": [
          0.2,
          0.2,
          0.2,
          0.2,
          0.2,
          0.4,
          0.3,
          0.2,
          0.2,
          0.1,
          0.2,
          0.2,
          0.1,
          0.1,
          0.2,
          0.4,
          0.4,
          0.3,
          0.3,
          0.3,
          0.2,
          0.4,
          0.2,
          0.5,
          0.2,
          0.2,
          0.4,
          0.2,
          0.2,
          0.2,
          0.2,
          0.4,
          0.1,
          0.2,
          0.1,
          0.2,
          0.2,
          0.1,
          0.2,
          0.2,
          0.3,
          0.3,
          0.2,
          0.6,
          0.4,
          0.3,
          0.2,
          0.2,
          0.2,
          0.2
         ]
        },
        {
         "hovertemplate": "species=setosa<br>sepal_length=%{x}<br>sepal_width=%{y}<br>petal_width=%{z}<br>petal_length=%{marker.size}<extra></extra>",
         "legendgroup": "setosa",
         "marker": {
          "color": "#EF553B",
          "opacity": 1,
          "size": [
           4.7,
           4.9,
           5,
           6,
           5.9,
           5.6,
           5.8,
           6.6,
           6.3,
           5.8,
           6.1,
           5.1,
           5.3,
           5.5,
           5.3,
           5.5,
           6.7,
           6.9,
           5.7,
           6.7,
           5.7,
           6,
           5.6,
           5.8,
           6.1,
           6.4,
           5.6,
           5.6,
           6.1,
           5.6,
           5.5,
           5.4,
           5.6,
           5.1,
           5.9,
           5.7,
           5.2,
           5.2,
           5.4
          ],
          "sizemode": "area",
          "sizeref": 0.03066666666666667,
          "symbol": "circle"
         },
         "mode": "markers",
         "name": "setosa",
         "scene": "scene",
         "showlegend": true,
         "type": "scatter3d",
         "x": [
          7,
          6.9,
          6.7,
          6.3,
          7.1,
          6.3,
          6.5,
          7.6,
          7.3,
          6.7,
          7.2,
          6.5,
          6.4,
          6.8,
          6.4,
          6.5,
          7.7,
          7.7,
          6.9,
          7.7,
          6.7,
          7.2,
          6.4,
          7.2,
          7.4,
          7.9,
          6.4,
          6.1,
          7.7,
          6.3,
          6.4,
          6.9,
          6.7,
          6.9,
          6.8,
          6.7,
          6.7,
          6.5,
          6.2
         ],
         "y": [
          3.2,
          3.1,
          3,
          3.3,
          3,
          2.9,
          3,
          3,
          2.9,
          2.5,
          3.6,
          3.2,
          2.7,
          3,
          3.2,
          3,
          3.8,
          2.6,
          3.2,
          2.8,
          3.3,
          3.2,
          2.8,
          3,
          2.8,
          3.8,
          2.8,
          2.6,
          3,
          3.4,
          3.1,
          3.1,
          3.1,
          3.1,
          3.2,
          3.3,
          3,
          3,
          3.4
         ],
         "z": [
          1.4,
          1.5,
          1.7,
          2.5,
          2.1,
          1.8,
          2.2,
          2.1,
          1.8,
          1.8,
          2.5,
          2,
          1.9,
          2.1,
          2.3,
          1.8,
          2.2,
          2.3,
          2.3,
          2,
          2.1,
          1.8,
          2.1,
          1.6,
          1.9,
          2,
          2.2,
          1.4,
          2.3,
          2.4,
          1.8,
          2.1,
          2.4,
          2.3,
          2.3,
          2.5,
          2.3,
          2,
          2.3
         ]
        },
        {
         "hovertemplate": "species=versicolor<br>sepal_length=%{x}<br>sepal_width=%{y}<br>petal_width=%{z}<br>petal_length=%{marker.size}<extra></extra>",
         "legendgroup": "versicolor",
         "marker": {
          "color": "#00cc96",
          "opacity": 1,
          "size": [
           4.5,
           4,
           4.6,
           4.5,
           4.7,
           3.3,
           4.6,
           3.9,
           3.5,
           4.2,
           4,
           4.7,
           3.6,
           4.4,
           4.5,
           4.1,
           4.5,
           3.9,
           4.8,
           4,
           4.9,
           4.7,
           4.3,
           4.4,
           4.8,
           4.5,
           3.5,
           3.8,
           3.7,
           3.9,
           5.1,
           4.5,
           4.5,
           4.7,
           4.4,
           4.1,
           4,
           4.4,
           4.6,
           4,
           3.3,
           4.2,
           4.2,
           4.2,
           4.3,
           3,
           4.1,
           5.1,
           4.5,
           5,
           5.1,
           5,
           4.9,
           4.9,
           4.8,
           4.9,
           5.1,
           4.8,
           5.1,
           5,
           5.1
          ],
          "sizemode": "area",
          "sizeref": 0.03066666666666667,
          "symbol": "circle"
         },
         "mode": "markers",
         "name": "versicolor",
         "scene": "scene",
         "showlegend": true,
         "type": "scatter3d",
         "x": [
          6.4,
          5.5,
          6.5,
          5.7,
          6.3,
          4.9,
          6.6,
          5.2,
          5,
          5.9,
          6,
          6.1,
          5.6,
          6.7,
          5.6,
          5.8,
          6.2,
          5.6,
          5.9,
          6.1,
          6.3,
          6.1,
          6.4,
          6.6,
          6.8,
          6,
          5.7,
          5.5,
          5.5,
          5.8,
          6,
          5.4,
          6,
          6.7,
          6.3,
          5.6,
          5.5,
          5.5,
          6.1,
          5.8,
          5,
          5.6,
          5.7,
          5.7,
          6.2,
          5.1,
          5.7,
          5.8,
          4.9,
          5.7,
          5.8,
          6,
          5.6,
          6.3,
          6.2,
          6.1,
          6.3,
          6,
          5.8,
          6.3,
          5.9
         ],
         "y": [
          3.2,
          2.3,
          2.8,
          2.8,
          3.3,
          2.4,
          2.9,
          2.7,
          2,
          3,
          2.2,
          2.9,
          2.9,
          3.1,
          3,
          2.7,
          2.2,
          2.5,
          3.2,
          2.8,
          2.5,
          2.8,
          2.9,
          3,
          2.8,
          2.9,
          2.6,
          2.4,
          2.4,
          2.7,
          2.7,
          3,
          3.4,
          3.1,
          2.3,
          3,
          2.5,
          2.6,
          3,
          2.6,
          2.3,
          2.7,
          3,
          2.9,
          2.9,
          2.5,
          2.8,
          2.7,
          2.5,
          2.5,
          2.8,
          2.2,
          2.8,
          2.7,
          2.8,
          3,
          2.8,
          3,
          2.7,
          2.5,
          3
         ],
         "z": [
          1.5,
          1.3,
          1.5,
          1.3,
          1.6,
          1,
          1.3,
          1.4,
          1,
          1.5,
          1,
          1.4,
          1.3,
          1.4,
          1.5,
          1,
          1.5,
          1.1,
          1.8,
          1.3,
          1.5,
          1.2,
          1.3,
          1.4,
          1.4,
          1.5,
          1,
          1.1,
          1,
          1.2,
          1.6,
          1.5,
          1.6,
          1.5,
          1.3,
          1.3,
          1.3,
          1.2,
          1.4,
          1.2,
          1,
          1.3,
          1.2,
          1.3,
          1.3,
          1.1,
          1.3,
          1.9,
          1.7,
          2,
          2.4,
          1.5,
          2,
          1.8,
          1.8,
          1.8,
          1.5,
          1.8,
          1.9,
          1.9,
          1.8
         ]
        }
       ],
       "layout": {
        "legend": {
         "itemsizing": "constant",
         "title": {
          "text": "species"
         },
         "tracegroupgap": 0
        },
        "margin": {
         "b": 0,
         "l": 0,
         "r": 0,
         "t": 0
        },
        "scene": {
         "domain": {
          "x": [
           0,
           1
          ],
          "y": [
           0,
           1
          ]
         },
         "xaxis": {
          "title": {
           "text": "sepal_length"
          }
         },
         "yaxis": {
          "title": {
           "text": "sepal_width"
          }
         },
         "zaxis": {
          "title": {
           "text": "petal_width"
          }
         }
        },
        "template": {
         "data": {
          "bar": [
           {
            "error_x": {
             "color": "#2a3f5f"
            },
            "error_y": {
             "color": "#2a3f5f"
            },
            "marker": {
             "line": {
              "color": "#E5ECF6",
              "width": 0.5
             },
             "pattern": {
              "fillmode": "overlay",
              "size": 10,
              "solidity": 0.2
             }
            },
            "type": "bar"
           }
          ],
          "barpolar": [
           {
            "marker": {
             "line": {
              "color": "#E5ECF6",
              "width": 0.5
             },
             "pattern": {
              "fillmode": "overlay",
              "size": 10,
              "solidity": 0.2
             }
            },
            "type": "barpolar"
           }
          ],
          "carpet": [
           {
            "aaxis": {
             "endlinecolor": "#2a3f5f",
             "gridcolor": "white",
             "linecolor": "white",
             "minorgridcolor": "white",
             "startlinecolor": "#2a3f5f"
            },
            "baxis": {
             "endlinecolor": "#2a3f5f",
             "gridcolor": "white",
             "linecolor": "white",
             "minorgridcolor": "white",
             "startlinecolor": "#2a3f5f"
            },
            "type": "carpet"
           }
          ],
          "choropleth": [
           {
            "colorbar": {
             "outlinewidth": 0,
             "ticks": ""
            },
            "type": "choropleth"
           }
          ],
          "contour": [
           {
            "colorbar": {
             "outlinewidth": 0,
             "ticks": ""
            },
            "colorscale": [
             [
              0,
              "#0d0887"
             ],
             [
              0.1111111111111111,
              "#46039f"
             ],
             [
              0.2222222222222222,
              "#7201a8"
             ],
             [
              0.3333333333333333,
              "#9c179e"
             ],
             [
              0.4444444444444444,
              "#bd3786"
             ],
             [
              0.5555555555555556,
              "#d8576b"
             ],
             [
              0.6666666666666666,
              "#ed7953"
             ],
             [
              0.7777777777777778,
              "#fb9f3a"
             ],
             [
              0.8888888888888888,
              "#fdca26"
             ],
             [
              1,
              "#f0f921"
             ]
            ],
            "type": "contour"
           }
          ],
          "contourcarpet": [
           {
            "colorbar": {
             "outlinewidth": 0,
             "ticks": ""
            },
            "type": "contourcarpet"
           }
          ],
          "heatmap": [
           {
            "colorbar": {
             "outlinewidth": 0,
             "ticks": ""
            },
            "colorscale": [
             [
              0,
              "#0d0887"
             ],
             [
              0.1111111111111111,
              "#46039f"
             ],
             [
              0.2222222222222222,
              "#7201a8"
             ],
             [
              0.3333333333333333,
              "#9c179e"
             ],
             [
              0.4444444444444444,
              "#bd3786"
             ],
             [
              0.5555555555555556,
              "#d8576b"
             ],
             [
              0.6666666666666666,
              "#ed7953"
             ],
             [
              0.7777777777777778,
              "#fb9f3a"
             ],
             [
              0.8888888888888888,
              "#fdca26"
             ],
             [
              1,
              "#f0f921"
             ]
            ],
            "type": "heatmap"
           }
          ],
          "heatmapgl": [
           {
            "colorbar": {
             "outlinewidth": 0,
             "ticks": ""
            },
            "colorscale": [
             [
              0,
              "#0d0887"
             ],
             [
              0.1111111111111111,
              "#46039f"
             ],
             [
              0.2222222222222222,
              "#7201a8"
             ],
             [
              0.3333333333333333,
              "#9c179e"
             ],
             [
              0.4444444444444444,
              "#bd3786"
             ],
             [
              0.5555555555555556,
              "#d8576b"
             ],
             [
              0.6666666666666666,
              "#ed7953"
             ],
             [
              0.7777777777777778,
              "#fb9f3a"
             ],
             [
              0.8888888888888888,
              "#fdca26"
             ],
             [
              1,
              "#f0f921"
             ]
            ],
            "type": "heatmapgl"
           }
          ],
          "histogram": [
           {
            "marker": {
             "pattern": {
              "fillmode": "overlay",
              "size": 10,
              "solidity": 0.2
             }
            },
            "type": "histogram"
           }
          ],
          "histogram2d": [
           {
            "colorbar": {
             "outlinewidth": 0,
             "ticks": ""
            },
            "colorscale": [
             [
              0,
              "#0d0887"
             ],
             [
              0.1111111111111111,
              "#46039f"
             ],
             [
              0.2222222222222222,
              "#7201a8"
             ],
             [
              0.3333333333333333,
              "#9c179e"
             ],
             [
              0.4444444444444444,
              "#bd3786"
             ],
             [
              0.5555555555555556,
              "#d8576b"
             ],
             [
              0.6666666666666666,
              "#ed7953"
             ],
             [
              0.7777777777777778,
              "#fb9f3a"
             ],
             [
              0.8888888888888888,
              "#fdca26"
             ],
             [
              1,
              "#f0f921"
             ]
            ],
            "type": "histogram2d"
           }
          ],
          "histogram2dcontour": [
           {
            "colorbar": {
             "outlinewidth": 0,
             "ticks": ""
            },
            "colorscale": [
             [
              0,
              "#0d0887"
             ],
             [
              0.1111111111111111,
              "#46039f"
             ],
             [
              0.2222222222222222,
              "#7201a8"
             ],
             [
              0.3333333333333333,
              "#9c179e"
             ],
             [
              0.4444444444444444,
              "#bd3786"
             ],
             [
              0.5555555555555556,
              "#d8576b"
             ],
             [
              0.6666666666666666,
              "#ed7953"
             ],
             [
              0.7777777777777778,
              "#fb9f3a"
             ],
             [
              0.8888888888888888,
              "#fdca26"
             ],
             [
              1,
              "#f0f921"
             ]
            ],
            "type": "histogram2dcontour"
           }
          ],
          "mesh3d": [
           {
            "colorbar": {
             "outlinewidth": 0,
             "ticks": ""
            },
            "type": "mesh3d"
           }
          ],
          "parcoords": [
           {
            "line": {
             "colorbar": {
              "outlinewidth": 0,
              "ticks": ""
             }
            },
            "type": "parcoords"
           }
          ],
          "pie": [
           {
            "automargin": true,
            "type": "pie"
           }
          ],
          "scatter": [
           {
            "marker": {
             "colorbar": {
              "outlinewidth": 0,
              "ticks": ""
             }
            },
            "type": "scatter"
           }
          ],
          "scatter3d": [
           {
            "line": {
             "colorbar": {
              "outlinewidth": 0,
              "ticks": ""
             }
            },
            "marker": {
             "colorbar": {
              "outlinewidth": 0,
              "ticks": ""
             }
            },
            "type": "scatter3d"
           }
          ],
          "scattercarpet": [
           {
            "marker": {
             "colorbar": {
              "outlinewidth": 0,
              "ticks": ""
             }
            },
            "type": "scattercarpet"
           }
          ],
          "scattergeo": [
           {
            "marker": {
             "colorbar": {
              "outlinewidth": 0,
              "ticks": ""
             }
            },
            "type": "scattergeo"
           }
          ],
          "scattergl": [
           {
            "marker": {
             "colorbar": {
              "outlinewidth": 0,
              "ticks": ""
             }
            },
            "type": "scattergl"
           }
          ],
          "scattermapbox": [
           {
            "marker": {
             "colorbar": {
              "outlinewidth": 0,
              "ticks": ""
             }
            },
            "type": "scattermapbox"
           }
          ],
          "scatterpolar": [
           {
            "marker": {
             "colorbar": {
              "outlinewidth": 0,
              "ticks": ""
             }
            },
            "type": "scatterpolar"
           }
          ],
          "scatterpolargl": [
           {
            "marker": {
             "colorbar": {
              "outlinewidth": 0,
              "ticks": ""
             }
            },
            "type": "scatterpolargl"
           }
          ],
          "scatterternary": [
           {
            "marker": {
             "colorbar": {
              "outlinewidth": 0,
              "ticks": ""
             }
            },
            "type": "scatterternary"
           }
          ],
          "surface": [
           {
            "colorbar": {
             "outlinewidth": 0,
             "ticks": ""
            },
            "colorscale": [
             [
              0,
              "#0d0887"
             ],
             [
              0.1111111111111111,
              "#46039f"
             ],
             [
              0.2222222222222222,
              "#7201a8"
             ],
             [
              0.3333333333333333,
              "#9c179e"
             ],
             [
              0.4444444444444444,
              "#bd3786"
             ],
             [
              0.5555555555555556,
              "#d8576b"
             ],
             [
              0.6666666666666666,
              "#ed7953"
             ],
             [
              0.7777777777777778,
              "#fb9f3a"
             ],
             [
              0.8888888888888888,
              "#fdca26"
             ],
             [
              1,
              "#f0f921"
             ]
            ],
            "type": "surface"
           }
          ],
          "table": [
           {
            "cells": {
             "fill": {
              "color": "#EBF0F8"
             },
             "line": {
              "color": "white"
             }
            },
            "header": {
             "fill": {
              "color": "#C8D4E3"
             },
             "line": {
              "color": "white"
             }
            },
            "type": "table"
           }
          ]
         },
         "layout": {
          "annotationdefaults": {
           "arrowcolor": "#2a3f5f",
           "arrowhead": 0,
           "arrowwidth": 1
          },
          "autotypenumbers": "strict",
          "coloraxis": {
           "colorbar": {
            "outlinewidth": 0,
            "ticks": ""
           }
          },
          "colorscale": {
           "diverging": [
            [
             0,
             "#8e0152"
            ],
            [
             0.1,
             "#c51b7d"
            ],
            [
             0.2,
             "#de77ae"
            ],
            [
             0.3,
             "#f1b6da"
            ],
            [
             0.4,
             "#fde0ef"
            ],
            [
             0.5,
             "#f7f7f7"
            ],
            [
             0.6,
             "#e6f5d0"
            ],
            [
             0.7,
             "#b8e186"
            ],
            [
             0.8,
             "#7fbc41"
            ],
            [
             0.9,
             "#4d9221"
            ],
            [
             1,
             "#276419"
            ]
           ],
           "sequential": [
            [
             0,
             "#0d0887"
            ],
            [
             0.1111111111111111,
             "#46039f"
            ],
            [
             0.2222222222222222,
             "#7201a8"
            ],
            [
             0.3333333333333333,
             "#9c179e"
            ],
            [
             0.4444444444444444,
             "#bd3786"
            ],
            [
             0.5555555555555556,
             "#d8576b"
            ],
            [
             0.6666666666666666,
             "#ed7953"
            ],
            [
             0.7777777777777778,
             "#fb9f3a"
            ],
            [
             0.8888888888888888,
             "#fdca26"
            ],
            [
             1,
             "#f0f921"
            ]
           ],
           "sequentialminus": [
            [
             0,
             "#0d0887"
            ],
            [
             0.1111111111111111,
             "#46039f"
            ],
            [
             0.2222222222222222,
             "#7201a8"
            ],
            [
             0.3333333333333333,
             "#9c179e"
            ],
            [
             0.4444444444444444,
             "#bd3786"
            ],
            [
             0.5555555555555556,
             "#d8576b"
            ],
            [
             0.6666666666666666,
             "#ed7953"
            ],
            [
             0.7777777777777778,
             "#fb9f3a"
            ],
            [
             0.8888888888888888,
             "#fdca26"
            ],
            [
             1,
             "#f0f921"
            ]
           ]
          },
          "colorway": [
           "#636efa",
           "#EF553B",
           "#00cc96",
           "#ab63fa",
           "#FFA15A",
           "#19d3f3",
           "#FF6692",
           "#B6E880",
           "#FF97FF",
           "#FECB52"
          ],
          "font": {
           "color": "#2a3f5f"
          },
          "geo": {
           "bgcolor": "white",
           "lakecolor": "white",
           "landcolor": "#E5ECF6",
           "showlakes": true,
           "showland": true,
           "subunitcolor": "white"
          },
          "hoverlabel": {
           "align": "left"
          },
          "hovermode": "closest",
          "mapbox": {
           "style": "light"
          },
          "paper_bgcolor": "white",
          "plot_bgcolor": "#E5ECF6",
          "polar": {
           "angularaxis": {
            "gridcolor": "white",
            "linecolor": "white",
            "ticks": ""
           },
           "bgcolor": "#E5ECF6",
           "radialaxis": {
            "gridcolor": "white",
            "linecolor": "white",
            "ticks": ""
           }
          },
          "scene": {
           "xaxis": {
            "backgroundcolor": "#E5ECF6",
            "gridcolor": "white",
            "gridwidth": 2,
            "linecolor": "white",
            "showbackground": true,
            "ticks": "",
            "zerolinecolor": "white"
           },
           "yaxis": {
            "backgroundcolor": "#E5ECF6",
            "gridcolor": "white",
            "gridwidth": 2,
            "linecolor": "white",
            "showbackground": true,
            "ticks": "",
            "zerolinecolor": "white"
           },
           "zaxis": {
            "backgroundcolor": "#E5ECF6",
            "gridcolor": "white",
            "gridwidth": 2,
            "linecolor": "white",
            "showbackground": true,
            "ticks": "",
            "zerolinecolor": "white"
           }
          },
          "shapedefaults": {
           "line": {
            "color": "#2a3f5f"
           }
          },
          "ternary": {
           "aaxis": {
            "gridcolor": "white",
            "linecolor": "white",
            "ticks": ""
           },
           "baxis": {
            "gridcolor": "white",
            "linecolor": "white",
            "ticks": ""
           },
           "bgcolor": "#E5ECF6",
           "caxis": {
            "gridcolor": "white",
            "linecolor": "white",
            "ticks": ""
           }
          },
          "title": {
           "x": 0.05
          },
          "xaxis": {
           "automargin": true,
           "gridcolor": "white",
           "linecolor": "white",
           "ticks": "",
           "title": {
            "standoff": 15
           },
           "zerolinecolor": "white",
           "zerolinewidth": 2
          },
          "yaxis": {
           "automargin": true,
           "gridcolor": "white",
           "linecolor": "white",
           "ticks": "",
           "title": {
            "standoff": 15
           },
           "zerolinecolor": "white",
           "zerolinewidth": 2
          }
         }
        },
        "title": {
         "text": "3D Plot After Clustering"
        }
       }
      }
     },
     "metadata": {}
    }
   ],
   "metadata": {}
  },
  {
   "cell_type": "markdown",
   "source": [
    "## Metrics"
   ],
   "metadata": {}
  },
  {
   "cell_type": "code",
   "execution_count": 105,
   "source": [
    "#Test\r\n",
    "y_pred = clf.predict(X_test)\r\n",
    "\r\n",
    "def getAccuracy(y_test, predictions):\r\n",
    "    t = 0\r\n",
    "    for i in range(len(predictions)):\r\n",
    "        if predictions[i] == y_test[i]:\r\n",
    "            t = t + 1\r\n",
    "\r\n",
    "    print('Accuracy: ' + str(format(t / len(y_test) * 100, '.1f')) + '%')\r\n",
    "\r\n",
    "def getConfMatrixData(y_test, predictions, label=3):\r\n",
    "    data = list()\r\n",
    "\r\n",
    "    for lb in range(label):\r\n",
    "        TP = 0\r\n",
    "        TN = 0\r\n",
    "        FP = 0\r\n",
    "        FN = 0\r\n",
    "\r\n",
    "        for i in range(len(predictions)):\r\n",
    "            if predictions[i] == lb and predictions[i] == y_test[i]:\r\n",
    "                TP = TP + 1\r\n",
    "            if predictions[i] is not lb and y_test[i] is not lb:\r\n",
    "                TN = TN + 1\r\n",
    "            if predictions[i] == lb and y_test[i] is not lb:\r\n",
    "                FP = FP + 1\r\n",
    "            if predictions[i] is not lb and y_test[i] == lb:\r\n",
    "                FN = FN + 1\r\n",
    "\r\n",
    "        data.append([TP,TN,FP,FN])\r\n",
    "    return data\r\n",
    "\r\n",
    "def getMetrics(y_test, predictions):\r\n",
    "    metrics = getConfMatrixData(y_test, predictions)\r\n",
    "    print('\\nSpecies     Precision     Recall     F1-Score')\r\n",
    "    print('---------------------------------------------')\r\n",
    "\r\n",
    "    classCount = 3\r\n",
    "    \r\n",
    "    for i in range(classCount):\r\n",
    "        val = metrics[i]\r\n",
    "\r\n",
    "        try:\r\n",
    "            precision = val[0] / (val[0] + val[2])\r\n",
    "            recall = val[0] / (val[0] + val[3])\r\n",
    "            f1 = 2 * ((precision * recall) / (precision + recall))\r\n",
    "        except:\r\n",
    "            precision = 0.000\r\n",
    "        \r\n",
    "        falsePositiveRate = val[3] / (val[3] + val[0])\r\n",
    "\r\n",
    "        if i == 0:\r\n",
    "            print('Setosa:     ' + format(precision, '.3f') + '         ' + format(recall, '.3f') + '      ' + format(f1, '.3f'))\r\n",
    "        elif i == 1:\r\n",
    "            print('Versicolor: ' + format(precision, '.3f') + '         ' + format(recall, '.3f') + '      ' + format(f1, '.3f'))\r\n",
    "        else:\r\n",
    "            print('Virginica:  ' + format(precision, '.3f') + '         ' + format(recall, '.3f') + '      ' + format(f1, '.3f'))\r\n",
    "\r\n",
    "getAccuracy(y_test, y_pred)\r\n",
    "getMetrics(y_test, y_pred)"
   ],
   "outputs": [
    {
     "output_type": "stream",
     "name": "stdout",
     "text": [
      "Accuracy: 96.7%\n",
      "\n",
      "Species     Precision     Recall     F1-Score\n",
      "---------------------------------------------\n",
      "Setosa:     1.000         1.000      1.000\n",
      "Versicolor: 0.900         1.000      0.947\n",
      "Virginica:  1.000         0.857      0.923\n"
     ]
    }
   ],
   "metadata": {}
  },
  {
   "cell_type": "markdown",
   "source": [
    "## Confusion Matrix"
   ],
   "metadata": {}
  },
  {
   "cell_type": "code",
   "execution_count": 106,
   "source": [
    "#Confusion Matrix\r\n",
    "metrics = getConfMatrixData(y_test, y_pred)\r\n",
    "cm = pd.DataFrame(metrics, range(3), range(4))\r\n",
    "plt.figure(figsize=(10,7))\r\n",
    "sns.set(font_scale=1.5)\r\n",
    "sns.heatmap(cm, annot=True, xticklabels=['TP', 'TN', 'FP', 'FN'], yticklabels=['Setosa', 'Versicolor', 'Virginica'], cmap=\"coolwarm\")\r\n",
    "\r\n",
    "plt.show()"
   ],
   "outputs": [
    {
     "output_type": "display_data",
     "data": {
      "text/plain": [
       "<Figure size 720x504 with 2 Axes>"
      ],
      "image/svg+xml": "<?xml version=\"1.0\" encoding=\"utf-8\" standalone=\"no\"?>\r\n<!DOCTYPE svg PUBLIC \"-//W3C//DTD SVG 1.1//EN\"\r\n  \"http://www.w3.org/Graphics/SVG/1.1/DTD/svg11.dtd\">\r\n<svg height=\"419.509766pt\" version=\"1.1\" viewBox=\"0 0 560.360219 419.509766\" width=\"560.360219pt\" xmlns=\"http://www.w3.org/2000/svg\" xmlns:xlink=\"http://www.w3.org/1999/xlink\">\r\n <metadata>\r\n  <rdf:RDF xmlns:cc=\"http://creativecommons.org/ns#\" xmlns:dc=\"http://purl.org/dc/elements/1.1/\" xmlns:rdf=\"http://www.w3.org/1999/02/22-rdf-syntax-ns#\">\r\n   <cc:Work>\r\n    <dc:type rdf:resource=\"http://purl.org/dc/dcmitype/StillImage\"/>\r\n    <dc:date>2021-08-16T23:57:39.431241</dc:date>\r\n    <dc:format>image/svg+xml</dc:format>\r\n    <dc:creator>\r\n     <cc:Agent>\r\n      <dc:title>Matplotlib v3.4.2, https://matplotlib.org/</dc:title>\r\n     </cc:Agent>\r\n    </dc:creator>\r\n   </cc:Work>\r\n  </rdf:RDF>\r\n </metadata>\r\n <defs>\r\n  <style type=\"text/css\">*{stroke-linecap:butt;stroke-linejoin:round;}</style>\r\n </defs>\r\n <g id=\"figure_1\">\r\n  <g id=\"patch_1\">\r\n   <path d=\"M -0 419.509766 \r\nL 560.360219 419.509766 \r\nL 560.360219 0 \r\nL -0 0 \r\nz\r\n\" style=\"fill:#ffffff;\"/>\r\n  </g>\r\n  <g id=\"axes_1\">\r\n   <g id=\"patch_2\">\r\n    <path d=\"M 31.983125 387.72 \r\nL 478.383125 387.72 \r\nL 478.383125 7.2 \r\nL 31.983125 7.2 \r\nz\r\n\" style=\"fill:#eaeaf2;\"/>\r\n   </g>\r\n   <g id=\"matplotlib.axis_1\">\r\n    <g id=\"xtick_1\">\r\n     <g id=\"text_1\">\r\n      <!-- TP -->\r\n      <g style=\"fill:#262626;\" transform=\"translate(77.241172 409.030391)scale(0.165 -0.165)\">\r\n       <defs>\r\n        <path d=\"M 1659 0 \r\nL 1659 4041 \r\nL 150 4041 \r\nL 150 4581 \r\nL 3781 4581 \r\nL 3781 4041 \r\nL 2266 4041 \r\nL 2266 0 \r\nL 1659 0 \r\nz\r\n\" id=\"ArialMT-54\" transform=\"scale(0.015625)\"/>\r\n        <path d=\"M 494 0 \r\nL 494 4581 \r\nL 2222 4581 \r\nQ 2678 4581 2919 4538 \r\nQ 3256 4481 3484 4323 \r\nQ 3713 4166 3852 3881 \r\nQ 3991 3597 3991 3256 \r\nQ 3991 2672 3619 2267 \r\nQ 3247 1863 2275 1863 \r\nL 1100 1863 \r\nL 1100 0 \r\nL 494 0 \r\nz\r\nM 1100 2403 \r\nL 2284 2403 \r\nQ 2872 2403 3119 2622 \r\nQ 3366 2841 3366 3238 \r\nQ 3366 3525 3220 3729 \r\nQ 3075 3934 2838 4000 \r\nQ 2684 4041 2272 4041 \r\nL 1100 4041 \r\nL 1100 2403 \r\nz\r\n\" id=\"ArialMT-50\" transform=\"scale(0.015625)\"/>\r\n       </defs>\r\n       <use xlink:href=\"#ArialMT-54\"/>\r\n       <use x=\"61.083984\" xlink:href=\"#ArialMT-50\"/>\r\n      </g>\r\n     </g>\r\n    </g>\r\n    <g id=\"xtick_2\">\r\n     <g id=\"text_2\">\r\n      <!-- TN -->\r\n      <g style=\"fill:#262626;\" transform=\"translate(188.386133 409.030391)scale(0.165 -0.165)\">\r\n       <defs>\r\n        <path d=\"M 488 0 \r\nL 488 4581 \r\nL 1109 4581 \r\nL 3516 984 \r\nL 3516 4581 \r\nL 4097 4581 \r\nL 4097 0 \r\nL 3475 0 \r\nL 1069 3600 \r\nL 1069 0 \r\nL 488 0 \r\nz\r\n\" id=\"ArialMT-4e\" transform=\"scale(0.015625)\"/>\r\n       </defs>\r\n       <use xlink:href=\"#ArialMT-54\"/>\r\n       <use x=\"61.083984\" xlink:href=\"#ArialMT-4e\"/>\r\n      </g>\r\n     </g>\r\n    </g>\r\n    <g id=\"xtick_3\">\r\n     <g id=\"text_3\">\r\n      <!-- FP -->\r\n      <g style=\"fill:#262626;\" transform=\"translate(300.441172 409.030391)scale(0.165 -0.165)\">\r\n       <defs>\r\n        <path d=\"M 525 0 \r\nL 525 4581 \r\nL 3616 4581 \r\nL 3616 4041 \r\nL 1131 4041 \r\nL 1131 2622 \r\nL 3281 2622 \r\nL 3281 2081 \r\nL 1131 2081 \r\nL 1131 0 \r\nL 525 0 \r\nz\r\n\" id=\"ArialMT-46\" transform=\"scale(0.015625)\"/>\r\n       </defs>\r\n       <use xlink:href=\"#ArialMT-46\"/>\r\n       <use x=\"61.083984\" xlink:href=\"#ArialMT-50\"/>\r\n      </g>\r\n     </g>\r\n    </g>\r\n    <g id=\"xtick_4\">\r\n     <g id=\"text_4\">\r\n      <!-- FN -->\r\n      <g style=\"fill:#262626;\" transform=\"translate(411.586133 409.030391)scale(0.165 -0.165)\">\r\n       <use xlink:href=\"#ArialMT-46\"/>\r\n       <use x=\"61.083984\" xlink:href=\"#ArialMT-4e\"/>\r\n      </g>\r\n     </g>\r\n    </g>\r\n   </g>\r\n   <g id=\"matplotlib.axis_2\">\r\n    <g id=\"ytick_1\">\r\n     <g id=\"text_5\">\r\n      <!-- Setosa -->\r\n      <g style=\"fill:#262626;\" transform=\"translate(19.20375 116.081367)rotate(-90)scale(0.165 -0.165)\">\r\n       <defs>\r\n        <path d=\"M 288 1472 \r\nL 859 1522 \r\nQ 900 1178 1048 958 \r\nQ 1197 738 1509 602 \r\nQ 1822 466 2213 466 \r\nQ 2559 466 2825 569 \r\nQ 3091 672 3220 851 \r\nQ 3350 1031 3350 1244 \r\nQ 3350 1459 3225 1620 \r\nQ 3100 1781 2813 1891 \r\nQ 2628 1963 1997 2114 \r\nQ 1366 2266 1113 2400 \r\nQ 784 2572 623 2826 \r\nQ 463 3081 463 3397 \r\nQ 463 3744 659 4045 \r\nQ 856 4347 1234 4503 \r\nQ 1613 4659 2075 4659 \r\nQ 2584 4659 2973 4495 \r\nQ 3363 4331 3572 4012 \r\nQ 3781 3694 3797 3291 \r\nL 3216 3247 \r\nQ 3169 3681 2898 3903 \r\nQ 2628 4125 2100 4125 \r\nQ 1550 4125 1298 3923 \r\nQ 1047 3722 1047 3438 \r\nQ 1047 3191 1225 3031 \r\nQ 1400 2872 2139 2705 \r\nQ 2878 2538 3153 2413 \r\nQ 3553 2228 3743 1945 \r\nQ 3934 1663 3934 1294 \r\nQ 3934 928 3725 604 \r\nQ 3516 281 3123 101 \r\nQ 2731 -78 2241 -78 \r\nQ 1619 -78 1198 103 \r\nQ 778 284 539 648 \r\nQ 300 1013 288 1472 \r\nz\r\n\" id=\"ArialMT-53\" transform=\"scale(0.015625)\"/>\r\n        <path d=\"M 2694 1069 \r\nL 3275 997 \r\nQ 3138 488 2766 206 \r\nQ 2394 -75 1816 -75 \r\nQ 1088 -75 661 373 \r\nQ 234 822 234 1631 \r\nQ 234 2469 665 2931 \r\nQ 1097 3394 1784 3394 \r\nQ 2450 3394 2872 2941 \r\nQ 3294 2488 3294 1666 \r\nQ 3294 1616 3291 1516 \r\nL 816 1516 \r\nQ 847 969 1125 678 \r\nQ 1403 388 1819 388 \r\nQ 2128 388 2347 550 \r\nQ 2566 713 2694 1069 \r\nz\r\nM 847 1978 \r\nL 2700 1978 \r\nQ 2663 2397 2488 2606 \r\nQ 2219 2931 1791 2931 \r\nQ 1403 2931 1139 2672 \r\nQ 875 2413 847 1978 \r\nz\r\n\" id=\"ArialMT-65\" transform=\"scale(0.015625)\"/>\r\n        <path d=\"M 1650 503 \r\nL 1731 6 \r\nQ 1494 -44 1306 -44 \r\nQ 1000 -44 831 53 \r\nQ 663 150 594 308 \r\nQ 525 466 525 972 \r\nL 525 2881 \r\nL 113 2881 \r\nL 113 3319 \r\nL 525 3319 \r\nL 525 4141 \r\nL 1084 4478 \r\nL 1084 3319 \r\nL 1650 3319 \r\nL 1650 2881 \r\nL 1084 2881 \r\nL 1084 941 \r\nQ 1084 700 1114 631 \r\nQ 1144 563 1211 522 \r\nQ 1278 481 1403 481 \r\nQ 1497 481 1650 503 \r\nz\r\n\" id=\"ArialMT-74\" transform=\"scale(0.015625)\"/>\r\n        <path d=\"M 213 1659 \r\nQ 213 2581 725 3025 \r\nQ 1153 3394 1769 3394 \r\nQ 2453 3394 2887 2945 \r\nQ 3322 2497 3322 1706 \r\nQ 3322 1066 3130 698 \r\nQ 2938 331 2570 128 \r\nQ 2203 -75 1769 -75 \r\nQ 1072 -75 642 372 \r\nQ 213 819 213 1659 \r\nz\r\nM 791 1659 \r\nQ 791 1022 1069 705 \r\nQ 1347 388 1769 388 \r\nQ 2188 388 2466 706 \r\nQ 2744 1025 2744 1678 \r\nQ 2744 2294 2464 2611 \r\nQ 2184 2928 1769 2928 \r\nQ 1347 2928 1069 2612 \r\nQ 791 2297 791 1659 \r\nz\r\n\" id=\"ArialMT-6f\" transform=\"scale(0.015625)\"/>\r\n        <path d=\"M 197 991 \r\nL 753 1078 \r\nQ 800 744 1014 566 \r\nQ 1228 388 1613 388 \r\nQ 2000 388 2187 545 \r\nQ 2375 703 2375 916 \r\nQ 2375 1106 2209 1216 \r\nQ 2094 1291 1634 1406 \r\nQ 1016 1563 777 1677 \r\nQ 538 1791 414 1992 \r\nQ 291 2194 291 2438 \r\nQ 291 2659 392 2848 \r\nQ 494 3038 669 3163 \r\nQ 800 3259 1026 3326 \r\nQ 1253 3394 1513 3394 \r\nQ 1903 3394 2198 3281 \r\nQ 2494 3169 2634 2976 \r\nQ 2775 2784 2828 2463 \r\nL 2278 2388 \r\nQ 2241 2644 2061 2787 \r\nQ 1881 2931 1553 2931 \r\nQ 1166 2931 1000 2803 \r\nQ 834 2675 834 2503 \r\nQ 834 2394 903 2306 \r\nQ 972 2216 1119 2156 \r\nQ 1203 2125 1616 2013 \r\nQ 2213 1853 2448 1751 \r\nQ 2684 1650 2818 1456 \r\nQ 2953 1263 2953 975 \r\nQ 2953 694 2789 445 \r\nQ 2625 197 2315 61 \r\nQ 2006 -75 1616 -75 \r\nQ 969 -75 630 194 \r\nQ 291 463 197 991 \r\nz\r\n\" id=\"ArialMT-73\" transform=\"scale(0.015625)\"/>\r\n        <path d=\"M 2588 409 \r\nQ 2275 144 1986 34 \r\nQ 1697 -75 1366 -75 \r\nQ 819 -75 525 192 \r\nQ 231 459 231 875 \r\nQ 231 1119 342 1320 \r\nQ 453 1522 633 1644 \r\nQ 813 1766 1038 1828 \r\nQ 1203 1872 1538 1913 \r\nQ 2219 1994 2541 2106 \r\nQ 2544 2222 2544 2253 \r\nQ 2544 2597 2384 2738 \r\nQ 2169 2928 1744 2928 \r\nQ 1347 2928 1158 2789 \r\nQ 969 2650 878 2297 \r\nL 328 2372 \r\nQ 403 2725 575 2942 \r\nQ 747 3159 1072 3276 \r\nQ 1397 3394 1825 3394 \r\nQ 2250 3394 2515 3294 \r\nQ 2781 3194 2906 3042 \r\nQ 3031 2891 3081 2659 \r\nQ 3109 2516 3109 2141 \r\nL 3109 1391 \r\nQ 3109 606 3145 398 \r\nQ 3181 191 3288 0 \r\nL 2700 0 \r\nQ 2613 175 2588 409 \r\nz\r\nM 2541 1666 \r\nQ 2234 1541 1622 1453 \r\nQ 1275 1403 1131 1340 \r\nQ 988 1278 909 1158 \r\nQ 831 1038 831 891 \r\nQ 831 666 1001 516 \r\nQ 1172 366 1500 366 \r\nQ 1825 366 2078 508 \r\nQ 2331 650 2450 897 \r\nQ 2541 1088 2541 1459 \r\nL 2541 1666 \r\nz\r\n\" id=\"ArialMT-61\" transform=\"scale(0.015625)\"/>\r\n       </defs>\r\n       <use xlink:href=\"#ArialMT-53\"/>\r\n       <use x=\"66.699219\" xlink:href=\"#ArialMT-65\"/>\r\n       <use x=\"122.314453\" xlink:href=\"#ArialMT-74\"/>\r\n       <use x=\"150.097656\" xlink:href=\"#ArialMT-6f\"/>\r\n       <use x=\"205.712891\" xlink:href=\"#ArialMT-73\"/>\r\n       <use x=\"255.712891\" xlink:href=\"#ArialMT-61\"/>\r\n      </g>\r\n     </g>\r\n    </g>\r\n    <g id=\"ytick_2\">\r\n     <g id=\"text_6\">\r\n      <!-- Versicolor -->\r\n      <g style=\"fill:#262626;\" transform=\"translate(19.20375 264.000117)rotate(-90)scale(0.165 -0.165)\">\r\n       <defs>\r\n        <path d=\"M 1803 0 \r\nL 28 4581 \r\nL 684 4581 \r\nL 1875 1253 \r\nQ 2019 853 2116 503 \r\nQ 2222 878 2363 1253 \r\nL 3600 4581 \r\nL 4219 4581 \r\nL 2425 0 \r\nL 1803 0 \r\nz\r\n\" id=\"ArialMT-56\" transform=\"scale(0.015625)\"/>\r\n        <path d=\"M 416 0 \r\nL 416 3319 \r\nL 922 3319 \r\nL 922 2816 \r\nQ 1116 3169 1280 3281 \r\nQ 1444 3394 1641 3394 \r\nQ 1925 3394 2219 3213 \r\nL 2025 2691 \r\nQ 1819 2813 1613 2813 \r\nQ 1428 2813 1281 2702 \r\nQ 1134 2591 1072 2394 \r\nQ 978 2094 978 1738 \r\nL 978 0 \r\nL 416 0 \r\nz\r\n\" id=\"ArialMT-72\" transform=\"scale(0.015625)\"/>\r\n        <path d=\"M 425 3934 \r\nL 425 4581 \r\nL 988 4581 \r\nL 988 3934 \r\nL 425 3934 \r\nz\r\nM 425 0 \r\nL 425 3319 \r\nL 988 3319 \r\nL 988 0 \r\nL 425 0 \r\nz\r\n\" id=\"ArialMT-69\" transform=\"scale(0.015625)\"/>\r\n        <path d=\"M 2588 1216 \r\nL 3141 1144 \r\nQ 3050 572 2676 248 \r\nQ 2303 -75 1759 -75 \r\nQ 1078 -75 664 370 \r\nQ 250 816 250 1647 \r\nQ 250 2184 428 2587 \r\nQ 606 2991 970 3192 \r\nQ 1334 3394 1763 3394 \r\nQ 2303 3394 2647 3120 \r\nQ 2991 2847 3088 2344 \r\nL 2541 2259 \r\nQ 2463 2594 2264 2762 \r\nQ 2066 2931 1784 2931 \r\nQ 1359 2931 1093 2626 \r\nQ 828 2322 828 1663 \r\nQ 828 994 1084 691 \r\nQ 1341 388 1753 388 \r\nQ 2084 388 2306 591 \r\nQ 2528 794 2588 1216 \r\nz\r\n\" id=\"ArialMT-63\" transform=\"scale(0.015625)\"/>\r\n        <path d=\"M 409 0 \r\nL 409 4581 \r\nL 972 4581 \r\nL 972 0 \r\nL 409 0 \r\nz\r\n\" id=\"ArialMT-6c\" transform=\"scale(0.015625)\"/>\r\n       </defs>\r\n       <use xlink:href=\"#ArialMT-56\"/>\r\n       <use x=\"61.199219\" xlink:href=\"#ArialMT-65\"/>\r\n       <use x=\"116.814453\" xlink:href=\"#ArialMT-72\"/>\r\n       <use x=\"150.115234\" xlink:href=\"#ArialMT-73\"/>\r\n       <use x=\"200.115234\" xlink:href=\"#ArialMT-69\"/>\r\n       <use x=\"222.332031\" xlink:href=\"#ArialMT-63\"/>\r\n       <use x=\"272.332031\" xlink:href=\"#ArialMT-6f\"/>\r\n       <use x=\"327.947266\" xlink:href=\"#ArialMT-6c\"/>\r\n       <use x=\"350.164062\" xlink:href=\"#ArialMT-6f\"/>\r\n       <use x=\"405.779297\" xlink:href=\"#ArialMT-72\"/>\r\n      </g>\r\n     </g>\r\n    </g>\r\n    <g id=\"ytick_3\">\r\n     <g id=\"text_7\">\r\n      <!-- Virginica -->\r\n      <g style=\"fill:#262626;\" transform=\"translate(19.010391 381.380977)rotate(-90)scale(0.165 -0.165)\">\r\n       <defs>\r\n        <path d=\"M 319 -275 \r\nL 866 -356 \r\nQ 900 -609 1056 -725 \r\nQ 1266 -881 1628 -881 \r\nQ 2019 -881 2231 -725 \r\nQ 2444 -569 2519 -288 \r\nQ 2563 -116 2559 434 \r\nQ 2191 0 1641 0 \r\nQ 956 0 581 494 \r\nQ 206 988 206 1678 \r\nQ 206 2153 378 2554 \r\nQ 550 2956 876 3175 \r\nQ 1203 3394 1644 3394 \r\nQ 2231 3394 2613 2919 \r\nL 2613 3319 \r\nL 3131 3319 \r\nL 3131 450 \r\nQ 3131 -325 2973 -648 \r\nQ 2816 -972 2473 -1159 \r\nQ 2131 -1347 1631 -1347 \r\nQ 1038 -1347 672 -1080 \r\nQ 306 -813 319 -275 \r\nz\r\nM 784 1719 \r\nQ 784 1066 1043 766 \r\nQ 1303 466 1694 466 \r\nQ 2081 466 2343 764 \r\nQ 2606 1063 2606 1700 \r\nQ 2606 2309 2336 2618 \r\nQ 2066 2928 1684 2928 \r\nQ 1309 2928 1046 2623 \r\nQ 784 2319 784 1719 \r\nz\r\n\" id=\"ArialMT-67\" transform=\"scale(0.015625)\"/>\r\n        <path d=\"M 422 0 \r\nL 422 3319 \r\nL 928 3319 \r\nL 928 2847 \r\nQ 1294 3394 1984 3394 \r\nQ 2284 3394 2536 3286 \r\nQ 2788 3178 2913 3003 \r\nQ 3038 2828 3088 2588 \r\nQ 3119 2431 3119 2041 \r\nL 3119 0 \r\nL 2556 0 \r\nL 2556 2019 \r\nQ 2556 2363 2490 2533 \r\nQ 2425 2703 2258 2804 \r\nQ 2091 2906 1866 2906 \r\nQ 1506 2906 1245 2678 \r\nQ 984 2450 984 1813 \r\nL 984 0 \r\nL 422 0 \r\nz\r\n\" id=\"ArialMT-6e\" transform=\"scale(0.015625)\"/>\r\n       </defs>\r\n       <use xlink:href=\"#ArialMT-56\"/>\r\n       <use x=\"64.949219\" xlink:href=\"#ArialMT-69\"/>\r\n       <use x=\"87.166016\" xlink:href=\"#ArialMT-72\"/>\r\n       <use x=\"120.466797\" xlink:href=\"#ArialMT-67\"/>\r\n       <use x=\"176.082031\" xlink:href=\"#ArialMT-69\"/>\r\n       <use x=\"198.298828\" xlink:href=\"#ArialMT-6e\"/>\r\n       <use x=\"253.914062\" xlink:href=\"#ArialMT-69\"/>\r\n       <use x=\"276.130859\" xlink:href=\"#ArialMT-63\"/>\r\n       <use x=\"326.130859\" xlink:href=\"#ArialMT-61\"/>\r\n      </g>\r\n     </g>\r\n    </g>\r\n   </g>\r\n   <g id=\"QuadMesh_1\">\r\n    <path clip-path=\"url(#p1b87c2f65f)\" d=\"M 31.983125 7.2 \r\nL 143.583125 7.2 \r\nL 143.583125 134.04 \r\nL 31.983125 134.04 \r\nL 31.983125 7.2 \r\n\" style=\"fill:#f2c9b4;\"/>\r\n    <path clip-path=\"url(#p1b87c2f65f)\" d=\"M 143.583125 7.2 \r\nL 255.183125 7.2 \r\nL 255.183125 134.04 \r\nL 143.583125 134.04 \r\nL 143.583125 7.2 \r\n\" style=\"fill:#f7ad90;\"/>\r\n    <path clip-path=\"url(#p1b87c2f65f)\" d=\"M 255.183125 7.2 \r\nL 366.783125 7.2 \r\nL 366.783125 134.04 \r\nL 255.183125 134.04 \r\nL 255.183125 7.2 \r\n\" style=\"fill:#3b4cc0;\"/>\r\n    <path clip-path=\"url(#p1b87c2f65f)\" d=\"M 366.783125 7.2 \r\nL 478.383125 7.2 \r\nL 478.383125 134.04 \r\nL 366.783125 134.04 \r\nL 366.783125 7.2 \r\n\" style=\"fill:#3b4cc0;\"/>\r\n    <path clip-path=\"url(#p1b87c2f65f)\" d=\"M 31.983125 134.04 \r\nL 143.583125 134.04 \r\nL 143.583125 260.88 \r\nL 31.983125 260.88 \r\nL 31.983125 134.04 \r\n\" style=\"fill:#bed2f6;\"/>\r\n    <path clip-path=\"url(#p1b87c2f65f)\" d=\"M 143.583125 134.04 \r\nL 255.183125 134.04 \r\nL 255.183125 260.88 \r\nL 143.583125 260.88 \r\nL 143.583125 134.04 \r\n\" style=\"fill:#df634e;\"/>\r\n    <path clip-path=\"url(#p1b87c2f65f)\" d=\"M 255.183125 134.04 \r\nL 366.783125 134.04 \r\nL 366.783125 260.88 \r\nL 255.183125 260.88 \r\nL 255.183125 134.04 \r\n\" style=\"fill:#485fd1;\"/>\r\n    <path clip-path=\"url(#p1b87c2f65f)\" d=\"M 366.783125 134.04 \r\nL 478.383125 134.04 \r\nL 478.383125 260.88 \r\nL 366.783125 260.88 \r\nL 366.783125 134.04 \r\n\" style=\"fill:#3b4cc0;\"/>\r\n    <path clip-path=\"url(#p1b87c2f65f)\" d=\"M 31.983125 260.88 \r\nL 143.583125 260.88 \r\nL 143.583125 387.72 \r\nL 31.983125 387.72 \r\nL 31.983125 260.88 \r\n\" style=\"fill:#90b2fe;\"/>\r\n    <path clip-path=\"url(#p1b87c2f65f)\" d=\"M 143.583125 260.88 \r\nL 255.183125 260.88 \r\nL 255.183125 387.72 \r\nL 143.583125 387.72 \r\nL 143.583125 260.88 \r\n\" style=\"fill:#b40426;\"/>\r\n    <path clip-path=\"url(#p1b87c2f65f)\" d=\"M 255.183125 260.88 \r\nL 366.783125 260.88 \r\nL 366.783125 387.72 \r\nL 255.183125 387.72 \r\nL 255.183125 260.88 \r\n\" style=\"fill:#3b4cc0;\"/>\r\n    <path clip-path=\"url(#p1b87c2f65f)\" d=\"M 366.783125 260.88 \r\nL 478.383125 260.88 \r\nL 478.383125 387.72 \r\nL 366.783125 387.72 \r\nL 366.783125 260.88 \r\n\" style=\"fill:#485fd1;\"/>\r\n   </g>\r\n   <g id=\"text_8\">\r\n    <!-- 14 -->\r\n    <g style=\"fill:#262626;\" transform=\"translate(77.773438 75.273281)scale(0.18 -0.18)\">\r\n     <defs>\r\n      <path d=\"M 2384 0 \r\nL 1822 0 \r\nL 1822 3584 \r\nQ 1619 3391 1289 3197 \r\nQ 959 3003 697 2906 \r\nL 697 3450 \r\nQ 1169 3672 1522 3987 \r\nQ 1875 4303 2022 4600 \r\nL 2384 4600 \r\nL 2384 0 \r\nz\r\n\" id=\"ArialMT-31\" transform=\"scale(0.015625)\"/>\r\n      <path d=\"M 2069 0 \r\nL 2069 1097 \r\nL 81 1097 \r\nL 81 1613 \r\nL 2172 4581 \r\nL 2631 4581 \r\nL 2631 1613 \r\nL 3250 1613 \r\nL 3250 1097 \r\nL 2631 1097 \r\nL 2631 0 \r\nL 2069 0 \r\nz\r\nM 2069 1613 \r\nL 2069 3678 \r\nL 634 1613 \r\nL 2069 1613 \r\nz\r\n\" id=\"ArialMT-34\" transform=\"scale(0.015625)\"/>\r\n     </defs>\r\n     <use xlink:href=\"#ArialMT-31\"/>\r\n     <use x=\"55.615234\" xlink:href=\"#ArialMT-34\"/>\r\n    </g>\r\n   </g>\r\n   <g id=\"text_9\">\r\n    <!-- 16 -->\r\n    <g style=\"fill:#262626;\" transform=\"translate(189.373438 75.273281)scale(0.18 -0.18)\">\r\n     <defs>\r\n      <path d=\"M 3184 3459 \r\nL 2625 3416 \r\nQ 2550 3747 2413 3897 \r\nQ 2184 4138 1850 4138 \r\nQ 1581 4138 1378 3988 \r\nQ 1113 3794 959 3422 \r\nQ 806 3050 800 2363 \r\nQ 1003 2672 1297 2822 \r\nQ 1591 2972 1913 2972 \r\nQ 2475 2972 2870 2558 \r\nQ 3266 2144 3266 1488 \r\nQ 3266 1056 3080 686 \r\nQ 2894 316 2569 119 \r\nQ 2244 -78 1831 -78 \r\nQ 1128 -78 684 439 \r\nQ 241 956 241 2144 \r\nQ 241 3472 731 4075 \r\nQ 1159 4600 1884 4600 \r\nQ 2425 4600 2770 4297 \r\nQ 3116 3994 3184 3459 \r\nz\r\nM 888 1484 \r\nQ 888 1194 1011 928 \r\nQ 1134 663 1356 523 \r\nQ 1578 384 1822 384 \r\nQ 2178 384 2434 671 \r\nQ 2691 959 2691 1453 \r\nQ 2691 1928 2437 2201 \r\nQ 2184 2475 1800 2475 \r\nQ 1419 2475 1153 2201 \r\nQ 888 1928 888 1484 \r\nz\r\n\" id=\"ArialMT-36\" transform=\"scale(0.015625)\"/>\r\n     </defs>\r\n     <use xlink:href=\"#ArialMT-31\"/>\r\n     <use x=\"55.615234\" xlink:href=\"#ArialMT-36\"/>\r\n    </g>\r\n   </g>\r\n   <g id=\"text_10\">\r\n    <!-- 0 -->\r\n    <g style=\"fill:#ffffff;\" transform=\"translate(305.978281 75.273281)scale(0.18 -0.18)\">\r\n     <defs>\r\n      <path d=\"M 266 2259 \r\nQ 266 3072 433 3567 \r\nQ 600 4063 929 4331 \r\nQ 1259 4600 1759 4600 \r\nQ 2128 4600 2406 4451 \r\nQ 2684 4303 2865 4023 \r\nQ 3047 3744 3150 3342 \r\nQ 3253 2941 3253 2259 \r\nQ 3253 1453 3087 958 \r\nQ 2922 463 2592 192 \r\nQ 2263 -78 1759 -78 \r\nQ 1097 -78 719 397 \r\nQ 266 969 266 2259 \r\nz\r\nM 844 2259 \r\nQ 844 1131 1108 757 \r\nQ 1372 384 1759 384 \r\nQ 2147 384 2411 759 \r\nQ 2675 1134 2675 2259 \r\nQ 2675 3391 2411 3762 \r\nQ 2147 4134 1753 4134 \r\nQ 1366 4134 1134 3806 \r\nQ 844 3388 844 2259 \r\nz\r\n\" id=\"ArialMT-30\" transform=\"scale(0.015625)\"/>\r\n     </defs>\r\n     <use xlink:href=\"#ArialMT-30\"/>\r\n    </g>\r\n   </g>\r\n   <g id=\"text_11\">\r\n    <!-- 0 -->\r\n    <g style=\"fill:#ffffff;\" transform=\"translate(417.578281 75.273281)scale(0.18 -0.18)\">\r\n     <use xlink:href=\"#ArialMT-30\"/>\r\n    </g>\r\n   </g>\r\n   <g id=\"text_12\">\r\n    <!-- 9 -->\r\n    <g style=\"fill:#262626;\" transform=\"translate(82.778281 202.113281)scale(0.18 -0.18)\">\r\n     <defs>\r\n      <path d=\"M 350 1059 \r\nL 891 1109 \r\nQ 959 728 1153 556 \r\nQ 1347 384 1650 384 \r\nQ 1909 384 2104 503 \r\nQ 2300 622 2425 820 \r\nQ 2550 1019 2634 1356 \r\nQ 2719 1694 2719 2044 \r\nQ 2719 2081 2716 2156 \r\nQ 2547 1888 2255 1720 \r\nQ 1963 1553 1622 1553 \r\nQ 1053 1553 659 1965 \r\nQ 266 2378 266 3053 \r\nQ 266 3750 677 4175 \r\nQ 1088 4600 1706 4600 \r\nQ 2153 4600 2523 4359 \r\nQ 2894 4119 3086 3673 \r\nQ 3278 3228 3278 2384 \r\nQ 3278 1506 3087 986 \r\nQ 2897 466 2520 194 \r\nQ 2144 -78 1638 -78 \r\nQ 1100 -78 759 220 \r\nQ 419 519 350 1059 \r\nz\r\nM 2653 3081 \r\nQ 2653 3566 2395 3850 \r\nQ 2138 4134 1775 4134 \r\nQ 1400 4134 1122 3828 \r\nQ 844 3522 844 3034 \r\nQ 844 2597 1108 2323 \r\nQ 1372 2050 1759 2050 \r\nQ 2150 2050 2401 2323 \r\nQ 2653 2597 2653 3081 \r\nz\r\n\" id=\"ArialMT-39\" transform=\"scale(0.015625)\"/>\r\n     </defs>\r\n     <use xlink:href=\"#ArialMT-39\"/>\r\n    </g>\r\n   </g>\r\n   <g id=\"text_13\">\r\n    <!-- 20 -->\r\n    <g style=\"fill:#ffffff;\" transform=\"translate(189.373438 202.113281)scale(0.18 -0.18)\">\r\n     <defs>\r\n      <path d=\"M 3222 541 \r\nL 3222 0 \r\nL 194 0 \r\nQ 188 203 259 391 \r\nQ 375 700 629 1000 \r\nQ 884 1300 1366 1694 \r\nQ 2113 2306 2375 2664 \r\nQ 2638 3022 2638 3341 \r\nQ 2638 3675 2398 3904 \r\nQ 2159 4134 1775 4134 \r\nQ 1369 4134 1125 3890 \r\nQ 881 3647 878 3216 \r\nL 300 3275 \r\nQ 359 3922 746 4261 \r\nQ 1134 4600 1788 4600 \r\nQ 2447 4600 2831 4234 \r\nQ 3216 3869 3216 3328 \r\nQ 3216 3053 3103 2787 \r\nQ 2991 2522 2730 2228 \r\nQ 2469 1934 1863 1422 \r\nQ 1356 997 1212 845 \r\nQ 1069 694 975 541 \r\nL 3222 541 \r\nz\r\n\" id=\"ArialMT-32\" transform=\"scale(0.015625)\"/>\r\n     </defs>\r\n     <use xlink:href=\"#ArialMT-32\"/>\r\n     <use x=\"55.615234\" xlink:href=\"#ArialMT-30\"/>\r\n    </g>\r\n   </g>\r\n   <g id=\"text_14\">\r\n    <!-- 1 -->\r\n    <g style=\"fill:#ffffff;\" transform=\"translate(305.978281 202.113281)scale(0.18 -0.18)\">\r\n     <use xlink:href=\"#ArialMT-31\"/>\r\n    </g>\r\n   </g>\r\n   <g id=\"text_15\">\r\n    <!-- 0 -->\r\n    <g style=\"fill:#ffffff;\" transform=\"translate(417.578281 202.113281)scale(0.18 -0.18)\">\r\n     <use xlink:href=\"#ArialMT-30\"/>\r\n    </g>\r\n   </g>\r\n   <g id=\"text_16\">\r\n    <!-- 6 -->\r\n    <g style=\"fill:#262626;\" transform=\"translate(82.778281 328.953281)scale(0.18 -0.18)\">\r\n     <use xlink:href=\"#ArialMT-36\"/>\r\n    </g>\r\n   </g>\r\n   <g id=\"text_17\">\r\n    <!-- 23 -->\r\n    <g style=\"fill:#ffffff;\" transform=\"translate(189.373438 328.953281)scale(0.18 -0.18)\">\r\n     <defs>\r\n      <path d=\"M 269 1209 \r\nL 831 1284 \r\nQ 928 806 1161 595 \r\nQ 1394 384 1728 384 \r\nQ 2125 384 2398 659 \r\nQ 2672 934 2672 1341 \r\nQ 2672 1728 2419 1979 \r\nQ 2166 2231 1775 2231 \r\nQ 1616 2231 1378 2169 \r\nL 1441 2663 \r\nQ 1497 2656 1531 2656 \r\nQ 1891 2656 2178 2843 \r\nQ 2466 3031 2466 3422 \r\nQ 2466 3731 2256 3934 \r\nQ 2047 4138 1716 4138 \r\nQ 1388 4138 1169 3931 \r\nQ 950 3725 888 3313 \r\nL 325 3413 \r\nQ 428 3978 793 4289 \r\nQ 1159 4600 1703 4600 \r\nQ 2078 4600 2393 4439 \r\nQ 2709 4278 2876 4000 \r\nQ 3044 3722 3044 3409 \r\nQ 3044 3113 2884 2869 \r\nQ 2725 2625 2413 2481 \r\nQ 2819 2388 3044 2092 \r\nQ 3269 1797 3269 1353 \r\nQ 3269 753 2831 336 \r\nQ 2394 -81 1725 -81 \r\nQ 1122 -81 723 278 \r\nQ 325 638 269 1209 \r\nz\r\n\" id=\"ArialMT-33\" transform=\"scale(0.015625)\"/>\r\n     </defs>\r\n     <use xlink:href=\"#ArialMT-32\"/>\r\n     <use x=\"55.615234\" xlink:href=\"#ArialMT-33\"/>\r\n    </g>\r\n   </g>\r\n   <g id=\"text_18\">\r\n    <!-- 0 -->\r\n    <g style=\"fill:#ffffff;\" transform=\"translate(305.978281 328.953281)scale(0.18 -0.18)\">\r\n     <use xlink:href=\"#ArialMT-30\"/>\r\n    </g>\r\n   </g>\r\n   <g id=\"text_19\">\r\n    <!-- 1 -->\r\n    <g style=\"fill:#ffffff;\" transform=\"translate(417.578281 328.953281)scale(0.18 -0.18)\">\r\n     <use xlink:href=\"#ArialMT-31\"/>\r\n    </g>\r\n   </g>\r\n  </g>\r\n  <g id=\"axes_2\">\r\n   <g id=\"patch_3\">\r\n    <path d=\"M 506.283125 387.72 \r\nL 525.309125 387.72 \r\nL 525.309125 7.2 \r\nL 506.283125 7.2 \r\nz\r\n\" style=\"fill:#eaeaf2;\"/>\r\n   </g>\r\n   <g id=\"patch_4\">\r\n    <path clip-path=\"url(#pd122b30d25)\" d=\"M 506.283125 387.72 \r\nL 506.283125 386.233594 \r\nL 506.283125 8.686406 \r\nL 506.283125 7.2 \r\nL 525.309125 7.2 \r\nL 525.309125 8.686406 \r\nL 525.309125 386.233594 \r\nL 525.309125 387.72 \r\nL 525.309125 387.72 \r\nz\r\n\" style=\"fill:#eaeaf2;stroke:#eaeaf2;stroke-linejoin:miter;stroke-width:0.01;\"/>\r\n   </g>\r\n   <g id=\"matplotlib.axis_3\"/>\r\n   <g id=\"matplotlib.axis_4\">\r\n    <g id=\"ytick_4\">\r\n     <g id=\"line2d_1\">\r\n      <defs>\r\n       <path d=\"M 0 0 \r\nL 6 0 \r\n\" id=\"m4b27c8e576\" style=\"stroke:#262626;stroke-width:1.25;\"/>\r\n      </defs>\r\n      <g>\r\n       <use style=\"fill:#262626;stroke:#262626;stroke-width:1.25;\" x=\"525.309125\" xlink:href=\"#m4b27c8e576\" y=\"387.72\"/>\r\n      </g>\r\n     </g>\r\n     <g id=\"text_20\">\r\n      <!-- 0 -->\r\n      <g style=\"fill:#262626;\" transform=\"translate(534.809125 393.625195)scale(0.165 -0.165)\">\r\n       <use xlink:href=\"#ArialMT-30\"/>\r\n      </g>\r\n     </g>\r\n    </g>\r\n    <g id=\"ytick_5\">\r\n     <g id=\"line2d_2\">\r\n      <g>\r\n       <use style=\"fill:#262626;stroke:#262626;stroke-width:1.25;\" x=\"525.309125\" xlink:href=\"#m4b27c8e576\" y=\"304.998261\"/>\r\n      </g>\r\n     </g>\r\n     <g id=\"text_21\">\r\n      <!-- 5 -->\r\n      <g style=\"fill:#262626;\" transform=\"translate(534.809125 310.903456)scale(0.165 -0.165)\">\r\n       <defs>\r\n        <path d=\"M 266 1200 \r\nL 856 1250 \r\nQ 922 819 1161 601 \r\nQ 1400 384 1738 384 \r\nQ 2144 384 2425 690 \r\nQ 2706 997 2706 1503 \r\nQ 2706 1984 2436 2262 \r\nQ 2166 2541 1728 2541 \r\nQ 1456 2541 1237 2417 \r\nQ 1019 2294 894 2097 \r\nL 366 2166 \r\nL 809 4519 \r\nL 3088 4519 \r\nL 3088 3981 \r\nL 1259 3981 \r\nL 1013 2750 \r\nQ 1425 3038 1878 3038 \r\nQ 2478 3038 2890 2622 \r\nQ 3303 2206 3303 1553 \r\nQ 3303 931 2941 478 \r\nQ 2500 -78 1738 -78 \r\nQ 1113 -78 717 272 \r\nQ 322 622 266 1200 \r\nz\r\n\" id=\"ArialMT-35\" transform=\"scale(0.015625)\"/>\r\n       </defs>\r\n       <use xlink:href=\"#ArialMT-35\"/>\r\n      </g>\r\n     </g>\r\n    </g>\r\n    <g id=\"ytick_6\">\r\n     <g id=\"line2d_3\">\r\n      <g>\r\n       <use style=\"fill:#262626;stroke:#262626;stroke-width:1.25;\" x=\"525.309125\" xlink:href=\"#m4b27c8e576\" y=\"222.276522\"/>\r\n      </g>\r\n     </g>\r\n     <g id=\"text_22\">\r\n      <!-- 10 -->\r\n      <g style=\"fill:#262626;\" transform=\"translate(534.809125 228.181717)scale(0.165 -0.165)\">\r\n       <use xlink:href=\"#ArialMT-31\"/>\r\n       <use x=\"55.615234\" xlink:href=\"#ArialMT-30\"/>\r\n      </g>\r\n     </g>\r\n    </g>\r\n    <g id=\"ytick_7\">\r\n     <g id=\"line2d_4\">\r\n      <g>\r\n       <use style=\"fill:#262626;stroke:#262626;stroke-width:1.25;\" x=\"525.309125\" xlink:href=\"#m4b27c8e576\" y=\"139.554783\"/>\r\n      </g>\r\n     </g>\r\n     <g id=\"text_23\">\r\n      <!-- 15 -->\r\n      <g style=\"fill:#262626;\" transform=\"translate(534.809125 145.459978)scale(0.165 -0.165)\">\r\n       <use xlink:href=\"#ArialMT-31\"/>\r\n       <use x=\"55.615234\" xlink:href=\"#ArialMT-35\"/>\r\n      </g>\r\n     </g>\r\n    </g>\r\n    <g id=\"ytick_8\">\r\n     <g id=\"line2d_5\">\r\n      <g>\r\n       <use style=\"fill:#262626;stroke:#262626;stroke-width:1.25;\" x=\"525.309125\" xlink:href=\"#m4b27c8e576\" y=\"56.833043\"/>\r\n      </g>\r\n     </g>\r\n     <g id=\"text_24\">\r\n      <!-- 20 -->\r\n      <g style=\"fill:#262626;\" transform=\"translate(534.809125 62.738239)scale(0.165 -0.165)\">\r\n       <use xlink:href=\"#ArialMT-32\"/>\r\n       <use x=\"55.615234\" xlink:href=\"#ArialMT-30\"/>\r\n      </g>\r\n     </g>\r\n    </g>\r\n   </g>\r\n   <image height=\"380\" id=\"image79f9a453e2\" transform=\"scale(1 -1)translate(0 -380)\" width=\"19\" x=\"506\" xlink:href=\"data:image/png;base64,\r\niVBORw0KGgoAAAANSUhEUgAAABMAAAF8CAYAAAAthYD3AAAB80lEQVR4nO2agY0DIRADAdFVWkjR6Ss5SA2cRrqRvBRg/ZztXYi+v96f3aAz+xiUVuOUWmuzjw6K9QxMrZuj3LwhFoE5UtzkxGBM0AAx5gDrNHu3YoaElpwaKd+MDC260ekGVNFPxcRukqH1dnNkYMKvOism/NyxYsLvAEzLjOntZsoIAnOWsjfJaNDdJMW0mPBCwbTMk1a8UNiHGKZlxiSLbt6b5HbyFj1knpEjKOZKpXUTvjlyYmJM8ZUqY9JWaM/FQkaQN7Qx3cT+k6dCe+PQoQXd9GKmTNoW4SY8ablvZg4tGA0xZsp2yig662Y14PSIQxvTzQg3vZikmhgzxM3CPBcz703STS8mGlovZrn5qJgac2Fi5tDuDDe31k0rprnoKZjSaIQ0wOymdju1Cu25mBYzxU0Ss4kxI/YmaYD4goxikkUXhzYG0zuCyEm7rJjo3kxxU4uZslDAOqU0gMUUzzNpNEIaYHZzhWB6u5kxacGczZ2B6XVzh0zaDEzWTe1CIaeGGBPdm9uLSYZ2a7vJYnrdzAhtTdobYuiVSvsOQDHJnNHRKDefFBPPs8I8PuKfIsQjKGTS1gi6IWbFXFeF9kkxNWaEm2QDxJjl5vERY4rdJBdKiJvsEr600bB+M3MDflrMb2GeipkxweeOGZP7y/6w9FjiDTKddwAAAABJRU5ErkJggg==\" y=\"-7\"/>\r\n   <g id=\"LineCollection_1\"/>\r\n   <g id=\"patch_5\">\r\n    <path d=\"M 506.283125 387.72 \r\nL 506.283125 386.233594 \r\nL 506.283125 8.686406 \r\nL 506.283125 7.2 \r\nL 525.309125 7.2 \r\nL 525.309125 8.686406 \r\nL 525.309125 386.233594 \r\nL 525.309125 387.72 \r\nz\r\n\" style=\"fill:none;\"/>\r\n   </g>\r\n  </g>\r\n </g>\r\n <defs>\r\n  <clipPath id=\"p1b87c2f65f\">\r\n   <rect height=\"380.52\" width=\"446.4\" x=\"31.983125\" y=\"7.2\"/>\r\n  </clipPath>\r\n  <clipPath id=\"pd122b30d25\">\r\n   <rect height=\"380.52\" width=\"19.026\" x=\"506.283125\" y=\"7.2\"/>\r\n  </clipPath>\r\n </defs>\r\n</svg>\r\n",
      "image/png": "[encoded data removed]"
     },
     "metadata": {}
    }
   ],
   "metadata": {}
  },
  {
   "cell_type": "markdown",
   "source": [
    "## ROC Curve"
   ],
   "metadata": {}
  },
  {
   "cell_type": "code",
   "execution_count": 107,
   "source": [
    "from sklearn.metrics import roc_curve\r\n",
    "from sklearn.metrics import roc_auc_score\r\n",
    "\r\n",
    "fpr, tpr, thresh = roc_curve(y_test, y_pred, pos_label=1)\r\n",
    "\r\n",
    "plt.plot(fpr, tpr, linestyle='--',color='orange', label='ROC Curve')\r\n",
    "\r\n",
    "plt.xlabel('False Positive Rate')\r\n",
    "plt.ylabel('True Positive rate')\r\n",
    "plt.legend(loc='best')  \r\n",
    "\r\n",
    "plt.show()"
   ],
   "outputs": [
    {
     "output_type": "display_data",
     "data": {
      "text/plain": [
       "<Figure size 432x288 with 1 Axes>"
      ],
      "image/svg+xml": "<?xml version=\"1.0\" encoding=\"utf-8\" standalone=\"no\"?>\r\n<!DOCTYPE svg PUBLIC \"-//W3C//DTD SVG 1.1//EN\"\r\n  \"http://www.w3.org/Graphics/SVG/1.1/DTD/svg11.dtd\">\r\n<svg height=\"276.891328pt\" version=\"1.1\" viewBox=\"0 0 402.096563 276.891328\" width=\"402.096563pt\" xmlns=\"http://www.w3.org/2000/svg\" xmlns:xlink=\"http://www.w3.org/1999/xlink\">\r\n <metadata>\r\n  <rdf:RDF xmlns:cc=\"http://creativecommons.org/ns#\" xmlns:dc=\"http://purl.org/dc/elements/1.1/\" xmlns:rdf=\"http://www.w3.org/1999/02/22-rdf-syntax-ns#\">\r\n   <cc:Work>\r\n    <dc:type rdf:resource=\"http://purl.org/dc/dcmitype/StillImage\"/>\r\n    <dc:date>2021-08-16T23:57:39.946357</dc:date>\r\n    <dc:format>image/svg+xml</dc:format>\r\n    <dc:creator>\r\n     <cc:Agent>\r\n      <dc:title>Matplotlib v3.4.2, https://matplotlib.org/</dc:title>\r\n     </cc:Agent>\r\n    </dc:creator>\r\n   </cc:Work>\r\n  </rdf:RDF>\r\n </metadata>\r\n <defs>\r\n  <style type=\"text/css\">*{stroke-linecap:butt;stroke-linejoin:round;}</style>\r\n </defs>\r\n <g id=\"figure_1\">\r\n  <g id=\"patch_1\">\r\n   <path d=\"M 0 276.891328 \r\nL 402.096563 276.891328 \r\nL 402.096563 0 \r\nL 0 0 \r\nz\r\n\" style=\"fill:#ffffff;\"/>\r\n  </g>\r\n  <g id=\"axes_1\">\r\n   <g id=\"patch_2\">\r\n    <path d=\"M 60.096563 224.64 \r\nL 394.896563 224.64 \r\nL 394.896563 7.2 \r\nL 60.096563 7.2 \r\nz\r\n\" style=\"fill:#eaeaf2;\"/>\r\n   </g>\r\n   <g id=\"matplotlib.axis_1\">\r\n    <g id=\"xtick_1\">\r\n     <g id=\"line2d_1\">\r\n      <path clip-path=\"url(#p35906f6981)\" d=\"M 75.314744 224.64 \r\nL 75.314744 7.2 \r\n\" style=\"fill:none;stroke:#ffffff;stroke-linecap:round;\"/>\r\n     </g>\r\n     <g id=\"text_1\">\r\n      <!-- 0.0 -->\r\n      <g style=\"fill:#262626;\" transform=\"translate(63.847244 245.950391)scale(0.165 -0.165)\">\r\n       <defs>\r\n        <path d=\"M 266 2259 \r\nQ 266 3072 433 3567 \r\nQ 600 4063 929 4331 \r\nQ 1259 4600 1759 4600 \r\nQ 2128 4600 2406 4451 \r\nQ 2684 4303 2865 4023 \r\nQ 3047 3744 3150 3342 \r\nQ 3253 2941 3253 2259 \r\nQ 3253 1453 3087 958 \r\nQ 2922 463 2592 192 \r\nQ 2263 -78 1759 -78 \r\nQ 1097 -78 719 397 \r\nQ 266 969 266 2259 \r\nz\r\nM 844 2259 \r\nQ 844 1131 1108 757 \r\nQ 1372 384 1759 384 \r\nQ 2147 384 2411 759 \r\nQ 2675 1134 2675 2259 \r\nQ 2675 3391 2411 3762 \r\nQ 2147 4134 1753 4134 \r\nQ 1366 4134 1134 3806 \r\nQ 844 3388 844 2259 \r\nz\r\n\" id=\"ArialMT-30\" transform=\"scale(0.015625)\"/>\r\n        <path d=\"M 581 0 \r\nL 581 641 \r\nL 1222 641 \r\nL 1222 0 \r\nL 581 0 \r\nz\r\n\" id=\"ArialMT-2e\" transform=\"scale(0.015625)\"/>\r\n       </defs>\r\n       <use xlink:href=\"#ArialMT-30\"/>\r\n       <use x=\"55.615234\" xlink:href=\"#ArialMT-2e\"/>\r\n       <use x=\"83.398438\" xlink:href=\"#ArialMT-30\"/>\r\n      </g>\r\n     </g>\r\n    </g>\r\n    <g id=\"xtick_2\">\r\n     <g id=\"line2d_2\">\r\n      <path clip-path=\"url(#p35906f6981)\" d=\"M 136.187472 224.64 \r\nL 136.187472 7.2 \r\n\" style=\"fill:none;stroke:#ffffff;stroke-linecap:round;\"/>\r\n     </g>\r\n     <g id=\"text_2\">\r\n      <!-- 0.2 -->\r\n      <g style=\"fill:#262626;\" transform=\"translate(124.719972 245.950391)scale(0.165 -0.165)\">\r\n       <defs>\r\n        <path d=\"M 3222 541 \r\nL 3222 0 \r\nL 194 0 \r\nQ 188 203 259 391 \r\nQ 375 700 629 1000 \r\nQ 884 1300 1366 1694 \r\nQ 2113 2306 2375 2664 \r\nQ 2638 3022 2638 3341 \r\nQ 2638 3675 2398 3904 \r\nQ 2159 4134 1775 4134 \r\nQ 1369 4134 1125 3890 \r\nQ 881 3647 878 3216 \r\nL 300 3275 \r\nQ 359 3922 746 4261 \r\nQ 1134 4600 1788 4600 \r\nQ 2447 4600 2831 4234 \r\nQ 3216 3869 3216 3328 \r\nQ 3216 3053 3103 2787 \r\nQ 2991 2522 2730 2228 \r\nQ 2469 1934 1863 1422 \r\nQ 1356 997 1212 845 \r\nQ 1069 694 975 541 \r\nL 3222 541 \r\nz\r\n\" id=\"ArialMT-32\" transform=\"scale(0.015625)\"/>\r\n       </defs>\r\n       <use xlink:href=\"#ArialMT-30\"/>\r\n       <use x=\"55.615234\" xlink:href=\"#ArialMT-2e\"/>\r\n       <use x=\"83.398438\" xlink:href=\"#ArialMT-32\"/>\r\n      </g>\r\n     </g>\r\n    </g>\r\n    <g id=\"xtick_3\">\r\n     <g id=\"line2d_3\">\r\n      <path clip-path=\"url(#p35906f6981)\" d=\"M 197.060199 224.64 \r\nL 197.060199 7.2 \r\n\" style=\"fill:none;stroke:#ffffff;stroke-linecap:round;\"/>\r\n     </g>\r\n     <g id=\"text_3\">\r\n      <!-- 0.4 -->\r\n      <g style=\"fill:#262626;\" transform=\"translate(185.592699 245.950391)scale(0.165 -0.165)\">\r\n       <defs>\r\n        <path d=\"M 2069 0 \r\nL 2069 1097 \r\nL 81 1097 \r\nL 81 1613 \r\nL 2172 4581 \r\nL 2631 4581 \r\nL 2631 1613 \r\nL 3250 1613 \r\nL 3250 1097 \r\nL 2631 1097 \r\nL 2631 0 \r\nL 2069 0 \r\nz\r\nM 2069 1613 \r\nL 2069 3678 \r\nL 634 1613 \r\nL 2069 1613 \r\nz\r\n\" id=\"ArialMT-34\" transform=\"scale(0.015625)\"/>\r\n       </defs>\r\n       <use xlink:href=\"#ArialMT-30\"/>\r\n       <use x=\"55.615234\" xlink:href=\"#ArialMT-2e\"/>\r\n       <use x=\"83.398438\" xlink:href=\"#ArialMT-34\"/>\r\n      </g>\r\n     </g>\r\n    </g>\r\n    <g id=\"xtick_4\">\r\n     <g id=\"line2d_4\">\r\n      <path clip-path=\"url(#p35906f6981)\" d=\"M 257.932926 224.64 \r\nL 257.932926 7.2 \r\n\" style=\"fill:none;stroke:#ffffff;stroke-linecap:round;\"/>\r\n     </g>\r\n     <g id=\"text_4\">\r\n      <!-- 0.6 -->\r\n      <g style=\"fill:#262626;\" transform=\"translate(246.465426 245.950391)scale(0.165 -0.165)\">\r\n       <defs>\r\n        <path d=\"M 3184 3459 \r\nL 2625 3416 \r\nQ 2550 3747 2413 3897 \r\nQ 2184 4138 1850 4138 \r\nQ 1581 4138 1378 3988 \r\nQ 1113 3794 959 3422 \r\nQ 806 3050 800 2363 \r\nQ 1003 2672 1297 2822 \r\nQ 1591 2972 1913 2972 \r\nQ 2475 2972 2870 2558 \r\nQ 3266 2144 3266 1488 \r\nQ 3266 1056 3080 686 \r\nQ 2894 316 2569 119 \r\nQ 2244 -78 1831 -78 \r\nQ 1128 -78 684 439 \r\nQ 241 956 241 2144 \r\nQ 241 3472 731 4075 \r\nQ 1159 4600 1884 4600 \r\nQ 2425 4600 2770 4297 \r\nQ 3116 3994 3184 3459 \r\nz\r\nM 888 1484 \r\nQ 888 1194 1011 928 \r\nQ 1134 663 1356 523 \r\nQ 1578 384 1822 384 \r\nQ 2178 384 2434 671 \r\nQ 2691 959 2691 1453 \r\nQ 2691 1928 2437 2201 \r\nQ 2184 2475 1800 2475 \r\nQ 1419 2475 1153 2201 \r\nQ 888 1928 888 1484 \r\nz\r\n\" id=\"ArialMT-36\" transform=\"scale(0.015625)\"/>\r\n       </defs>\r\n       <use xlink:href=\"#ArialMT-30\"/>\r\n       <use x=\"55.615234\" xlink:href=\"#ArialMT-2e\"/>\r\n       <use x=\"83.398438\" xlink:href=\"#ArialMT-36\"/>\r\n      </g>\r\n     </g>\r\n    </g>\r\n    <g id=\"xtick_5\">\r\n     <g id=\"line2d_5\">\r\n      <path clip-path=\"url(#p35906f6981)\" d=\"M 318.805653 224.64 \r\nL 318.805653 7.2 \r\n\" style=\"fill:none;stroke:#ffffff;stroke-linecap:round;\"/>\r\n     </g>\r\n     <g id=\"text_5\">\r\n      <!-- 0.8 -->\r\n      <g style=\"fill:#262626;\" transform=\"translate(307.338153 245.950391)scale(0.165 -0.165)\">\r\n       <defs>\r\n        <path d=\"M 1131 2484 \r\nQ 781 2613 612 2850 \r\nQ 444 3088 444 3419 \r\nQ 444 3919 803 4259 \r\nQ 1163 4600 1759 4600 \r\nQ 2359 4600 2725 4251 \r\nQ 3091 3903 3091 3403 \r\nQ 3091 3084 2923 2848 \r\nQ 2756 2613 2416 2484 \r\nQ 2838 2347 3058 2040 \r\nQ 3278 1734 3278 1309 \r\nQ 3278 722 2862 322 \r\nQ 2447 -78 1769 -78 \r\nQ 1091 -78 675 323 \r\nQ 259 725 259 1325 \r\nQ 259 1772 486 2073 \r\nQ 713 2375 1131 2484 \r\nz\r\nM 1019 3438 \r\nQ 1019 3113 1228 2906 \r\nQ 1438 2700 1772 2700 \r\nQ 2097 2700 2305 2904 \r\nQ 2513 3109 2513 3406 \r\nQ 2513 3716 2298 3927 \r\nQ 2084 4138 1766 4138 \r\nQ 1444 4138 1231 3931 \r\nQ 1019 3725 1019 3438 \r\nz\r\nM 838 1322 \r\nQ 838 1081 952 856 \r\nQ 1066 631 1291 507 \r\nQ 1516 384 1775 384 \r\nQ 2178 384 2440 643 \r\nQ 2703 903 2703 1303 \r\nQ 2703 1709 2433 1975 \r\nQ 2163 2241 1756 2241 \r\nQ 1359 2241 1098 1978 \r\nQ 838 1716 838 1322 \r\nz\r\n\" id=\"ArialMT-38\" transform=\"scale(0.015625)\"/>\r\n       </defs>\r\n       <use xlink:href=\"#ArialMT-30\"/>\r\n       <use x=\"55.615234\" xlink:href=\"#ArialMT-2e\"/>\r\n       <use x=\"83.398438\" xlink:href=\"#ArialMT-38\"/>\r\n      </g>\r\n     </g>\r\n    </g>\r\n    <g id=\"xtick_6\">\r\n     <g id=\"line2d_6\">\r\n      <path clip-path=\"url(#p35906f6981)\" d=\"M 379.678381 224.64 \r\nL 379.678381 7.2 \r\n\" style=\"fill:none;stroke:#ffffff;stroke-linecap:round;\"/>\r\n     </g>\r\n     <g id=\"text_6\">\r\n      <!-- 1.0 -->\r\n      <g style=\"fill:#262626;\" transform=\"translate(368.210881 245.950391)scale(0.165 -0.165)\">\r\n       <defs>\r\n        <path d=\"M 2384 0 \r\nL 1822 0 \r\nL 1822 3584 \r\nQ 1619 3391 1289 3197 \r\nQ 959 3003 697 2906 \r\nL 697 3450 \r\nQ 1169 3672 1522 3987 \r\nQ 1875 4303 2022 4600 \r\nL 2384 4600 \r\nL 2384 0 \r\nz\r\n\" id=\"ArialMT-31\" transform=\"scale(0.015625)\"/>\r\n       </defs>\r\n       <use xlink:href=\"#ArialMT-31\"/>\r\n       <use x=\"55.615234\" xlink:href=\"#ArialMT-2e\"/>\r\n       <use x=\"83.398438\" xlink:href=\"#ArialMT-30\"/>\r\n      </g>\r\n     </g>\r\n    </g>\r\n    <g id=\"text_7\">\r\n     <!-- False Positive Rate -->\r\n     <g style=\"fill:#262626;\" transform=\"translate(149.967188 266.113828)scale(0.18 -0.18)\">\r\n      <defs>\r\n       <path d=\"M 525 0 \r\nL 525 4581 \r\nL 3616 4581 \r\nL 3616 4041 \r\nL 1131 4041 \r\nL 1131 2622 \r\nL 3281 2622 \r\nL 3281 2081 \r\nL 1131 2081 \r\nL 1131 0 \r\nL 525 0 \r\nz\r\n\" id=\"ArialMT-46\" transform=\"scale(0.015625)\"/>\r\n       <path d=\"M 2588 409 \r\nQ 2275 144 1986 34 \r\nQ 1697 -75 1366 -75 \r\nQ 819 -75 525 192 \r\nQ 231 459 231 875 \r\nQ 231 1119 342 1320 \r\nQ 453 1522 633 1644 \r\nQ 813 1766 1038 1828 \r\nQ 1203 1872 1538 1913 \r\nQ 2219 1994 2541 2106 \r\nQ 2544 2222 2544 2253 \r\nQ 2544 2597 2384 2738 \r\nQ 2169 2928 1744 2928 \r\nQ 1347 2928 1158 2789 \r\nQ 969 2650 878 2297 \r\nL 328 2372 \r\nQ 403 2725 575 2942 \r\nQ 747 3159 1072 3276 \r\nQ 1397 3394 1825 3394 \r\nQ 2250 3394 2515 3294 \r\nQ 2781 3194 2906 3042 \r\nQ 3031 2891 3081 2659 \r\nQ 3109 2516 3109 2141 \r\nL 3109 1391 \r\nQ 3109 606 3145 398 \r\nQ 3181 191 3288 0 \r\nL 2700 0 \r\nQ 2613 175 2588 409 \r\nz\r\nM 2541 1666 \r\nQ 2234 1541 1622 1453 \r\nQ 1275 1403 1131 1340 \r\nQ 988 1278 909 1158 \r\nQ 831 1038 831 891 \r\nQ 831 666 1001 516 \r\nQ 1172 366 1500 366 \r\nQ 1825 366 2078 508 \r\nQ 2331 650 2450 897 \r\nQ 2541 1088 2541 1459 \r\nL 2541 1666 \r\nz\r\n\" id=\"ArialMT-61\" transform=\"scale(0.015625)\"/>\r\n       <path d=\"M 409 0 \r\nL 409 4581 \r\nL 972 4581 \r\nL 972 0 \r\nL 409 0 \r\nz\r\n\" id=\"ArialMT-6c\" transform=\"scale(0.015625)\"/>\r\n       <path d=\"M 197 991 \r\nL 753 1078 \r\nQ 800 744 1014 566 \r\nQ 1228 388 1613 388 \r\nQ 2000 388 2187 545 \r\nQ 2375 703 2375 916 \r\nQ 2375 1106 2209 1216 \r\nQ 2094 1291 1634 1406 \r\nQ 1016 1563 777 1677 \r\nQ 538 1791 414 1992 \r\nQ 291 2194 291 2438 \r\nQ 291 2659 392 2848 \r\nQ 494 3038 669 3163 \r\nQ 800 3259 1026 3326 \r\nQ 1253 3394 1513 3394 \r\nQ 1903 3394 2198 3281 \r\nQ 2494 3169 2634 2976 \r\nQ 2775 2784 2828 2463 \r\nL 2278 2388 \r\nQ 2241 2644 2061 2787 \r\nQ 1881 2931 1553 2931 \r\nQ 1166 2931 1000 2803 \r\nQ 834 2675 834 2503 \r\nQ 834 2394 903 2306 \r\nQ 972 2216 1119 2156 \r\nQ 1203 2125 1616 2013 \r\nQ 2213 1853 2448 1751 \r\nQ 2684 1650 2818 1456 \r\nQ 2953 1263 2953 975 \r\nQ 2953 694 2789 445 \r\nQ 2625 197 2315 61 \r\nQ 2006 -75 1616 -75 \r\nQ 969 -75 630 194 \r\nQ 291 463 197 991 \r\nz\r\n\" id=\"ArialMT-73\" transform=\"scale(0.015625)\"/>\r\n       <path d=\"M 2694 1069 \r\nL 3275 997 \r\nQ 3138 488 2766 206 \r\nQ 2394 -75 1816 -75 \r\nQ 1088 -75 661 373 \r\nQ 234 822 234 1631 \r\nQ 234 2469 665 2931 \r\nQ 1097 3394 1784 3394 \r\nQ 2450 3394 2872 2941 \r\nQ 3294 2488 3294 1666 \r\nQ 3294 1616 3291 1516 \r\nL 816 1516 \r\nQ 847 969 1125 678 \r\nQ 1403 388 1819 388 \r\nQ 2128 388 2347 550 \r\nQ 2566 713 2694 1069 \r\nz\r\nM 847 1978 \r\nL 2700 1978 \r\nQ 2663 2397 2488 2606 \r\nQ 2219 2931 1791 2931 \r\nQ 1403 2931 1139 2672 \r\nQ 875 2413 847 1978 \r\nz\r\n\" id=\"ArialMT-65\" transform=\"scale(0.015625)\"/>\r\n       <path id=\"ArialMT-20\" transform=\"scale(0.015625)\"/>\r\n       <path d=\"M 494 0 \r\nL 494 4581 \r\nL 2222 4581 \r\nQ 2678 4581 2919 4538 \r\nQ 3256 4481 3484 4323 \r\nQ 3713 4166 3852 3881 \r\nQ 3991 3597 3991 3256 \r\nQ 3991 2672 3619 2267 \r\nQ 3247 1863 2275 1863 \r\nL 1100 1863 \r\nL 1100 0 \r\nL 494 0 \r\nz\r\nM 1100 2403 \r\nL 2284 2403 \r\nQ 2872 2403 3119 2622 \r\nQ 3366 2841 3366 3238 \r\nQ 3366 3525 3220 3729 \r\nQ 3075 3934 2838 4000 \r\nQ 2684 4041 2272 4041 \r\nL 1100 4041 \r\nL 1100 2403 \r\nz\r\n\" id=\"ArialMT-50\" transform=\"scale(0.015625)\"/>\r\n       <path d=\"M 213 1659 \r\nQ 213 2581 725 3025 \r\nQ 1153 3394 1769 3394 \r\nQ 2453 3394 2887 2945 \r\nQ 3322 2497 3322 1706 \r\nQ 3322 1066 3130 698 \r\nQ 2938 331 2570 128 \r\nQ 2203 -75 1769 -75 \r\nQ 1072 -75 642 372 \r\nQ 213 819 213 1659 \r\nz\r\nM 791 1659 \r\nQ 791 1022 1069 705 \r\nQ 1347 388 1769 388 \r\nQ 2188 388 2466 706 \r\nQ 2744 1025 2744 1678 \r\nQ 2744 2294 2464 2611 \r\nQ 2184 2928 1769 2928 \r\nQ 1347 2928 1069 2612 \r\nQ 791 2297 791 1659 \r\nz\r\n\" id=\"ArialMT-6f\" transform=\"scale(0.015625)\"/>\r\n       <path d=\"M 425 3934 \r\nL 425 4581 \r\nL 988 4581 \r\nL 988 3934 \r\nL 425 3934 \r\nz\r\nM 425 0 \r\nL 425 3319 \r\nL 988 3319 \r\nL 988 0 \r\nL 425 0 \r\nz\r\n\" id=\"ArialMT-69\" transform=\"scale(0.015625)\"/>\r\n       <path d=\"M 1650 503 \r\nL 1731 6 \r\nQ 1494 -44 1306 -44 \r\nQ 1000 -44 831 53 \r\nQ 663 150 594 308 \r\nQ 525 466 525 972 \r\nL 525 2881 \r\nL 113 2881 \r\nL 113 3319 \r\nL 525 3319 \r\nL 525 4141 \r\nL 1084 4478 \r\nL 1084 3319 \r\nL 1650 3319 \r\nL 1650 2881 \r\nL 1084 2881 \r\nL 1084 941 \r\nQ 1084 700 1114 631 \r\nQ 1144 563 1211 522 \r\nQ 1278 481 1403 481 \r\nQ 1497 481 1650 503 \r\nz\r\n\" id=\"ArialMT-74\" transform=\"scale(0.015625)\"/>\r\n       <path d=\"M 1344 0 \r\nL 81 3319 \r\nL 675 3319 \r\nL 1388 1331 \r\nQ 1503 1009 1600 663 \r\nQ 1675 925 1809 1294 \r\nL 2547 3319 \r\nL 3125 3319 \r\nL 1869 0 \r\nL 1344 0 \r\nz\r\n\" id=\"ArialMT-76\" transform=\"scale(0.015625)\"/>\r\n       <path d=\"M 503 0 \r\nL 503 4581 \r\nL 2534 4581 \r\nQ 3147 4581 3465 4457 \r\nQ 3784 4334 3975 4021 \r\nQ 4166 3709 4166 3331 \r\nQ 4166 2844 3850 2509 \r\nQ 3534 2175 2875 2084 \r\nQ 3116 1969 3241 1856 \r\nQ 3506 1613 3744 1247 \r\nL 4541 0 \r\nL 3778 0 \r\nL 3172 953 \r\nQ 2906 1366 2734 1584 \r\nQ 2563 1803 2427 1890 \r\nQ 2291 1978 2150 2013 \r\nQ 2047 2034 1813 2034 \r\nL 1109 2034 \r\nL 1109 0 \r\nL 503 0 \r\nz\r\nM 1109 2559 \r\nL 2413 2559 \r\nQ 2828 2559 3062 2645 \r\nQ 3297 2731 3419 2920 \r\nQ 3541 3109 3541 3331 \r\nQ 3541 3656 3305 3865 \r\nQ 3069 4075 2559 4075 \r\nL 1109 4075 \r\nL 1109 2559 \r\nz\r\n\" id=\"ArialMT-52\" transform=\"scale(0.015625)\"/>\r\n      </defs>\r\n      <use xlink:href=\"#ArialMT-46\"/>\r\n      <use x=\"61.083984\" xlink:href=\"#ArialMT-61\"/>\r\n      <use x=\"116.699219\" xlink:href=\"#ArialMT-6c\"/>\r\n      <use x=\"138.916016\" xlink:href=\"#ArialMT-73\"/>\r\n      <use x=\"188.916016\" xlink:href=\"#ArialMT-65\"/>\r\n      <use x=\"244.53125\" xlink:href=\"#ArialMT-20\"/>\r\n      <use x=\"272.314453\" xlink:href=\"#ArialMT-50\"/>\r\n      <use x=\"339.013672\" xlink:href=\"#ArialMT-6f\"/>\r\n      <use x=\"394.628906\" xlink:href=\"#ArialMT-73\"/>\r\n      <use x=\"444.628906\" xlink:href=\"#ArialMT-69\"/>\r\n      <use x=\"466.845703\" xlink:href=\"#ArialMT-74\"/>\r\n      <use x=\"494.628906\" xlink:href=\"#ArialMT-69\"/>\r\n      <use x=\"516.845703\" xlink:href=\"#ArialMT-76\"/>\r\n      <use x=\"566.845703\" xlink:href=\"#ArialMT-65\"/>\r\n      <use x=\"622.460938\" xlink:href=\"#ArialMT-20\"/>\r\n      <use x=\"650.244141\" xlink:href=\"#ArialMT-52\"/>\r\n      <use x=\"722.460938\" xlink:href=\"#ArialMT-61\"/>\r\n      <use x=\"778.076172\" xlink:href=\"#ArialMT-74\"/>\r\n      <use x=\"805.859375\" xlink:href=\"#ArialMT-65\"/>\r\n     </g>\r\n    </g>\r\n   </g>\r\n   <g id=\"matplotlib.axis_2\">\r\n    <g id=\"ytick_1\">\r\n     <g id=\"line2d_7\">\r\n      <path clip-path=\"url(#p35906f6981)\" d=\"M 60.096563 214.756364 \r\nL 394.896563 214.756364 \r\n\" style=\"fill:none;stroke:#ffffff;stroke-linecap:round;\"/>\r\n     </g>\r\n     <g id=\"text_8\">\r\n      <!-- 0.0 -->\r\n      <g style=\"fill:#262626;\" transform=\"translate(27.661563 220.661559)scale(0.165 -0.165)\">\r\n       <use xlink:href=\"#ArialMT-30\"/>\r\n       <use x=\"55.615234\" xlink:href=\"#ArialMT-2e\"/>\r\n       <use x=\"83.398438\" xlink:href=\"#ArialMT-30\"/>\r\n      </g>\r\n     </g>\r\n    </g>\r\n    <g id=\"ytick_2\">\r\n     <g id=\"line2d_8\">\r\n      <path clip-path=\"url(#p35906f6981)\" d=\"M 60.096563 175.221818 \r\nL 394.896563 175.221818 \r\n\" style=\"fill:none;stroke:#ffffff;stroke-linecap:round;\"/>\r\n     </g>\r\n     <g id=\"text_9\">\r\n      <!-- 0.2 -->\r\n      <g style=\"fill:#262626;\" transform=\"translate(27.661563 181.127013)scale(0.165 -0.165)\">\r\n       <use xlink:href=\"#ArialMT-30\"/>\r\n       <use x=\"55.615234\" xlink:href=\"#ArialMT-2e\"/>\r\n       <use x=\"83.398438\" xlink:href=\"#ArialMT-32\"/>\r\n      </g>\r\n     </g>\r\n    </g>\r\n    <g id=\"ytick_3\">\r\n     <g id=\"line2d_9\">\r\n      <path clip-path=\"url(#p35906f6981)\" d=\"M 60.096563 135.687273 \r\nL 394.896563 135.687273 \r\n\" style=\"fill:none;stroke:#ffffff;stroke-linecap:round;\"/>\r\n     </g>\r\n     <g id=\"text_10\">\r\n      <!-- 0.4 -->\r\n      <g style=\"fill:#262626;\" transform=\"translate(27.661563 141.592468)scale(0.165 -0.165)\">\r\n       <use xlink:href=\"#ArialMT-30\"/>\r\n       <use x=\"55.615234\" xlink:href=\"#ArialMT-2e\"/>\r\n       <use x=\"83.398438\" xlink:href=\"#ArialMT-34\"/>\r\n      </g>\r\n     </g>\r\n    </g>\r\n    <g id=\"ytick_4\">\r\n     <g id=\"line2d_10\">\r\n      <path clip-path=\"url(#p35906f6981)\" d=\"M 60.096563 96.152727 \r\nL 394.896563 96.152727 \r\n\" style=\"fill:none;stroke:#ffffff;stroke-linecap:round;\"/>\r\n     </g>\r\n     <g id=\"text_11\">\r\n      <!-- 0.6 -->\r\n      <g style=\"fill:#262626;\" transform=\"translate(27.661563 102.057923)scale(0.165 -0.165)\">\r\n       <use xlink:href=\"#ArialMT-30\"/>\r\n       <use x=\"55.615234\" xlink:href=\"#ArialMT-2e\"/>\r\n       <use x=\"83.398438\" xlink:href=\"#ArialMT-36\"/>\r\n      </g>\r\n     </g>\r\n    </g>\r\n    <g id=\"ytick_5\">\r\n     <g id=\"line2d_11\">\r\n      <path clip-path=\"url(#p35906f6981)\" d=\"M 60.096563 56.618182 \r\nL 394.896563 56.618182 \r\n\" style=\"fill:none;stroke:#ffffff;stroke-linecap:round;\"/>\r\n     </g>\r\n     <g id=\"text_12\">\r\n      <!-- 0.8 -->\r\n      <g style=\"fill:#262626;\" transform=\"translate(27.661563 62.523377)scale(0.165 -0.165)\">\r\n       <use xlink:href=\"#ArialMT-30\"/>\r\n       <use x=\"55.615234\" xlink:href=\"#ArialMT-2e\"/>\r\n       <use x=\"83.398438\" xlink:href=\"#ArialMT-38\"/>\r\n      </g>\r\n     </g>\r\n    </g>\r\n    <g id=\"ytick_6\">\r\n     <g id=\"line2d_12\">\r\n      <path clip-path=\"url(#p35906f6981)\" d=\"M 60.096563 17.083636 \r\nL 394.896563 17.083636 \r\n\" style=\"fill:none;stroke:#ffffff;stroke-linecap:round;\"/>\r\n     </g>\r\n     <g id=\"text_13\">\r\n      <!-- 1.0 -->\r\n      <g style=\"fill:#262626;\" transform=\"translate(27.661563 22.988832)scale(0.165 -0.165)\">\r\n       <use xlink:href=\"#ArialMT-31\"/>\r\n       <use x=\"55.615234\" xlink:href=\"#ArialMT-2e\"/>\r\n       <use x=\"83.398438\" xlink:href=\"#ArialMT-30\"/>\r\n      </g>\r\n     </g>\r\n    </g>\r\n    <g id=\"text_14\">\r\n     <!-- True Positive rate -->\r\n     <g style=\"fill:#262626;\" transform=\"translate(20.084062 186.105937)rotate(-90)scale(0.18 -0.18)\">\r\n      <defs>\r\n       <path d=\"M 1659 0 \r\nL 1659 4041 \r\nL 150 4041 \r\nL 150 4581 \r\nL 3781 4581 \r\nL 3781 4041 \r\nL 2266 4041 \r\nL 2266 0 \r\nL 1659 0 \r\nz\r\n\" id=\"ArialMT-54\" transform=\"scale(0.015625)\"/>\r\n       <path d=\"M 416 0 \r\nL 416 3319 \r\nL 922 3319 \r\nL 922 2816 \r\nQ 1116 3169 1280 3281 \r\nQ 1444 3394 1641 3394 \r\nQ 1925 3394 2219 3213 \r\nL 2025 2691 \r\nQ 1819 2813 1613 2813 \r\nQ 1428 2813 1281 2702 \r\nQ 1134 2591 1072 2394 \r\nQ 978 2094 978 1738 \r\nL 978 0 \r\nL 416 0 \r\nz\r\n\" id=\"ArialMT-72\" transform=\"scale(0.015625)\"/>\r\n       <path d=\"M 2597 0 \r\nL 2597 488 \r\nQ 2209 -75 1544 -75 \r\nQ 1250 -75 995 37 \r\nQ 741 150 617 320 \r\nQ 494 491 444 738 \r\nQ 409 903 409 1263 \r\nL 409 3319 \r\nL 972 3319 \r\nL 972 1478 \r\nQ 972 1038 1006 884 \r\nQ 1059 663 1231 536 \r\nQ 1403 409 1656 409 \r\nQ 1909 409 2131 539 \r\nQ 2353 669 2445 892 \r\nQ 2538 1116 2538 1541 \r\nL 2538 3319 \r\nL 3100 3319 \r\nL 3100 0 \r\nL 2597 0 \r\nz\r\n\" id=\"ArialMT-75\" transform=\"scale(0.015625)\"/>\r\n      </defs>\r\n      <use xlink:href=\"#ArialMT-54\"/>\r\n      <use x=\"57.333984\" xlink:href=\"#ArialMT-72\"/>\r\n      <use x=\"90.634766\" xlink:href=\"#ArialMT-75\"/>\r\n      <use x=\"146.25\" xlink:href=\"#ArialMT-65\"/>\r\n      <use x=\"201.865234\" xlink:href=\"#ArialMT-20\"/>\r\n      <use x=\"229.648438\" xlink:href=\"#ArialMT-50\"/>\r\n      <use x=\"296.347656\" xlink:href=\"#ArialMT-6f\"/>\r\n      <use x=\"351.962891\" xlink:href=\"#ArialMT-73\"/>\r\n      <use x=\"401.962891\" xlink:href=\"#ArialMT-69\"/>\r\n      <use x=\"424.179688\" xlink:href=\"#ArialMT-74\"/>\r\n      <use x=\"451.962891\" xlink:href=\"#ArialMT-69\"/>\r\n      <use x=\"474.179688\" xlink:href=\"#ArialMT-76\"/>\r\n      <use x=\"524.179688\" xlink:href=\"#ArialMT-65\"/>\r\n      <use x=\"579.794922\" xlink:href=\"#ArialMT-20\"/>\r\n      <use x=\"607.578125\" xlink:href=\"#ArialMT-72\"/>\r\n      <use x=\"640.878906\" xlink:href=\"#ArialMT-61\"/>\r\n      <use x=\"696.494141\" xlink:href=\"#ArialMT-74\"/>\r\n      <use x=\"724.277344\" xlink:href=\"#ArialMT-65\"/>\r\n     </g>\r\n    </g>\r\n   </g>\r\n   <g id=\"line2d_13\">\r\n    <path clip-path=\"url(#p35906f6981)\" d=\"M 75.314744 214.756364 \r\nL 162.275783 214.756364 \r\nL 176.76929 17.083636 \r\nL 379.678381 17.083636 \r\n\" style=\"fill:none;stroke:#ffa500;stroke-dasharray:5.55,2.4;stroke-dashoffset:0;stroke-width:1.5;\"/>\r\n   </g>\r\n   <g id=\"patch_3\">\r\n    <path d=\"M 60.096563 224.64 \r\nL 60.096563 7.2 \r\n\" style=\"fill:none;stroke:#ffffff;stroke-linecap:square;stroke-linejoin:miter;stroke-width:1.25;\"/>\r\n   </g>\r\n   <g id=\"patch_4\">\r\n    <path d=\"M 394.896563 224.64 \r\nL 394.896563 7.2 \r\n\" style=\"fill:none;stroke:#ffffff;stroke-linecap:square;stroke-linejoin:miter;stroke-width:1.25;\"/>\r\n   </g>\r\n   <g id=\"patch_5\">\r\n    <path d=\"M 60.096563 224.64 \r\nL 394.896563 224.64 \r\n\" style=\"fill:none;stroke:#ffffff;stroke-linecap:square;stroke-linejoin:miter;stroke-width:1.25;\"/>\r\n   </g>\r\n   <g id=\"patch_6\">\r\n    <path d=\"M 60.096563 7.2 \r\nL 394.896563 7.2 \r\n\" style=\"fill:none;stroke:#ffffff;stroke-linecap:square;stroke-linejoin:miter;stroke-width:1.25;\"/>\r\n   </g>\r\n   <g id=\"legend_1\">\r\n    <g id=\"patch_7\">\r\n     <path d=\"M 245.285391 216.39 \r\nL 383.346563 216.39 \r\nQ 386.646563 216.39 386.646563 213.09 \r\nL 386.646563 191.400234 \r\nQ 386.646563 188.100234 383.346563 188.100234 \r\nL 245.285391 188.100234 \r\nQ 241.985391 188.100234 241.985391 191.400234 \r\nL 241.985391 213.09 \r\nQ 241.985391 216.39 245.285391 216.39 \r\nz\r\n\" style=\"fill:#eaeaf2;opacity:0.8;stroke:#cccccc;stroke-linejoin:miter;\"/>\r\n    </g>\r\n    <g id=\"line2d_14\">\r\n     <path d=\"M 248.585391 200.735625 \r\nL 281.585391 200.735625 \r\n\" style=\"fill:none;stroke:#ffa500;stroke-dasharray:5.55,2.4;stroke-dashoffset:0;stroke-width:1.5;\"/>\r\n    </g>\r\n    <g id=\"line2d_15\"/>\r\n    <g id=\"text_15\">\r\n     <!-- ROC Curve -->\r\n     <g style=\"fill:#262626;\" transform=\"translate(294.785391 206.510625)scale(0.165 -0.165)\">\r\n      <defs>\r\n       <path d=\"M 309 2231 \r\nQ 309 3372 921 4017 \r\nQ 1534 4663 2503 4663 \r\nQ 3138 4663 3647 4359 \r\nQ 4156 4056 4423 3514 \r\nQ 4691 2972 4691 2284 \r\nQ 4691 1588 4409 1038 \r\nQ 4128 488 3612 205 \r\nQ 3097 -78 2500 -78 \r\nQ 1853 -78 1343 234 \r\nQ 834 547 571 1087 \r\nQ 309 1628 309 2231 \r\nz\r\nM 934 2222 \r\nQ 934 1394 1379 917 \r\nQ 1825 441 2497 441 \r\nQ 3181 441 3623 922 \r\nQ 4066 1403 4066 2288 \r\nQ 4066 2847 3877 3264 \r\nQ 3688 3681 3323 3911 \r\nQ 2959 4141 2506 4141 \r\nQ 1863 4141 1398 3698 \r\nQ 934 3256 934 2222 \r\nz\r\n\" id=\"ArialMT-4f\" transform=\"scale(0.015625)\"/>\r\n       <path d=\"M 3763 1606 \r\nL 4369 1453 \r\nQ 4178 706 3683 314 \r\nQ 3188 -78 2472 -78 \r\nQ 1731 -78 1267 223 \r\nQ 803 525 561 1097 \r\nQ 319 1669 319 2325 \r\nQ 319 3041 592 3573 \r\nQ 866 4106 1370 4382 \r\nQ 1875 4659 2481 4659 \r\nQ 3169 4659 3637 4309 \r\nQ 4106 3959 4291 3325 \r\nL 3694 3184 \r\nQ 3534 3684 3231 3912 \r\nQ 2928 4141 2469 4141 \r\nQ 1941 4141 1586 3887 \r\nQ 1231 3634 1087 3207 \r\nQ 944 2781 944 2328 \r\nQ 944 1744 1114 1308 \r\nQ 1284 872 1643 656 \r\nQ 2003 441 2422 441 \r\nQ 2931 441 3284 734 \r\nQ 3638 1028 3763 1606 \r\nz\r\n\" id=\"ArialMT-43\" transform=\"scale(0.015625)\"/>\r\n      </defs>\r\n      <use xlink:href=\"#ArialMT-52\"/>\r\n      <use x=\"72.216797\" xlink:href=\"#ArialMT-4f\"/>\r\n      <use x=\"150\" xlink:href=\"#ArialMT-43\"/>\r\n      <use x=\"222.216797\" xlink:href=\"#ArialMT-20\"/>\r\n      <use x=\"250\" xlink:href=\"#ArialMT-43\"/>\r\n      <use x=\"322.216797\" xlink:href=\"#ArialMT-75\"/>\r\n      <use x=\"377.832031\" xlink:href=\"#ArialMT-72\"/>\r\n      <use x=\"411.132812\" xlink:href=\"#ArialMT-76\"/>\r\n      <use x=\"461.132812\" xlink:href=\"#ArialMT-65\"/>\r\n     </g>\r\n    </g>\r\n   </g>\r\n  </g>\r\n </g>\r\n <defs>\r\n  <clipPath id=\"p35906f6981\">\r\n   <rect height=\"217.44\" width=\"334.8\" x=\"60.096563\" y=\"7.2\"/>\r\n  </clipPath>\r\n </defs>\r\n</svg>\r\n",
      "image/png": "[encoded data removed]"
     },
     "metadata": {}
    }
   ],
   "metadata": {}
  },
  {
   "cell_type": "markdown",
   "source": [
    "# Comments"
   ],
   "metadata": {}
  },
  {
   "cell_type": "markdown",
   "source": [
    "The KMeans Clustering is working great if the initial centroids are well chosen. With good centroids, the accuracy is even more than 90% and sometimes 100%. On the other hand with bad initial points, the model is not working properly.\r\n",
    "Elbow Point might differ between 2 and 4 for iris dataset. Even calculating sum of squared distances 3 times and having arithmetical avarage is not making the elbow point true for all conditions. If the initial centroids are chosen badly, the model can not predict good enough.\r\n",
    "To fix selecting bad initial points I made a mechanism. If the our cluster size is more than 2 and our centroids are not representing different clusters that means initial centroids are not well chosen. So I rerun the algorithm with new initial points until I getting good initial centroids. This saved the algorithm and working good now.\r\n",
    "On my personal remark, the algorithm should be enhanced with better initial points. Having full random initial centroids is decreasing the accuracy quite a lot and making the model less reliable. But if the algorithm gets good initial points model working great."
   ],
   "metadata": {}
  },
  {
   "cell_type": "markdown",
   "source": [
    "# Decision Tree vs KMeans Clustering"
   ],
   "metadata": {}
  },
  {
   "cell_type": "markdown",
   "source": [
    "* If we check the best results of the algorithms, they both get 100% accuracy sometimes but Decision Tree reaches 100% more than KMeans.\r\n",
    "* If we check the avarage results, KMeans mostly has 87-97% accuracy. Decision Tree has 90-100% accuracy. On this point Decision Three is slightly better.\r\n",
    "* For worst results, Decision Tree does not result so bad in any condition (90% accuracy), but at KMeans, if we have bad luck with initial centroids the model results quite bad. If we enhance model with good initial centroids as my model do the results are getting much better (in worst scenario 87% accuracy with good initial points | 50% with bad initial points). \r\n",
    "* For having a dataset with 150 elements has a side-effect which is shuffling the dataset everytime might result with bad distribution like having no setosa in test data e.t.c. That might effect the worst case scenario's also.\r\n",
    "* Advantages of using KMeans Clustering model are; being more visual and does not require additional data structures like a tree or graph and easy to implement.\r\n",
    "* Advantages of using Decision Tree model are; being precise, can work in any condition for iris dataset and does not require to check if initial points are good.\r\n",
    "\r\n",
    "* On my personal opinion, for iris dataset, Decision Tree algorithm is working slightly better regarding to points listed above. But both algorithms working good \r\n",
    "\r\n",
    "P.S. all results listed below belongs to my personal implemented models"
   ],
   "metadata": {}
  }
 ],
 "metadata": {
  "interpreter": {
   "hash": "c8b17eec41a63249b25d31a358a425ca36a596c5f68bfeeb05026ab69181a86f"
  },
  "kernelspec": {
   "name": "python3",
   "display_name": "Python 3.9.6 64-bit"
  },
  "language_info": {
   "codemirror_mode": {
    "name": "ipython",
    "version": 3
   },
   "file_extension": ".py",
   "mimetype": "text/x-python",
   "name": "python",
   "nbconvert_exporter": "python",
   "pygments_lexer": "ipython3",
   "version": "3.9.6"
  },
  "toc": {
   "base_numbering": 1,
   "nav_menu": {},
   "number_sections": true,
   "sideBar": true,
   "skip_h1_title": false,
   "title_cell": "Table of Contents",
   "title_sidebar": "Contents",
   "toc_cell": false,
   "toc_position": {},
   "toc_section_display": true,
   "toc_window_display": false
  },
  "varInspector": {
   "cols": {
    "lenName": 16,
    "lenType": 16,
    "lenVar": 40
   },
   "kernels_config": {
    "python": {
     "delete_cmd_postfix": "",
     "delete_cmd_prefix": "del ",
     "library": "var_list.py",
     "varRefreshCmd": "print(var_dic_list())"
    },
    "r": {
     "delete_cmd_postfix": ") ",
     "delete_cmd_prefix": "rm(",
     "library": "var_list.r",
     "varRefreshCmd": "cat(var_dic_list()) "
    }
   },
   "types_to_exclude": [
    "module",
    "function",
    "builtin_function_or_method",
    "instance",
    "_Feature"
   ],
   "window_display": false
  }
 },
 "nbformat": 4,
 "nbformat_minor": 2
}